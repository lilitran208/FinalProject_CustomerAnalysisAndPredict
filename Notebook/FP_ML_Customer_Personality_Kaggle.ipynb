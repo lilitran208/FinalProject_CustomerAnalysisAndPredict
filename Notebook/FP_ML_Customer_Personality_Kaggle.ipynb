{
  "nbformat": 4,
  "nbformat_minor": 0,
  "metadata": {
    "colab": {
      "name": "FP- ML Customer Personality - Kaggle.ipynb",
      "provenance": [],
      "toc_visible": true,
      "collapsed_sections": [
        "TC3a0pER2Qfz",
        "Du0CJPnnSf4J",
        "vq9wmZQIWvG0"
      ]
    },
    "kernelspec": {
      "name": "python3",
      "display_name": "Python 3"
    },
    "language_info": {
      "name": "python"
    }
  },
  "cells": [
    {
      "cell_type": "markdown",
      "source": [
        "#Mount Drive"
      ],
      "metadata": {
        "id": "IhphsMear1QQ"
      }
    },
    {
      "cell_type": "code",
      "metadata": {
        "id": "QpeuGd-61z4W",
        "colab": {
          "base_uri": "https://localhost:8080/"
        },
        "outputId": "c59425e6-3475-497c-ea7a-16480d8dc565"
      },
      "source": [
        "from google.colab import drive\n",
        "drive.mount('/content/gdrive')"
      ],
      "execution_count": null,
      "outputs": [
        {
          "output_type": "stream",
          "name": "stdout",
          "text": [
            "Mounted at /content/gdrive\n"
          ]
        }
      ]
    },
    {
      "cell_type": "markdown",
      "metadata": {
        "id": "TC3a0pER2Qfz"
      },
      "source": [
        "# Get Data (run once)"
      ]
    },
    {
      "cell_type": "code",
      "metadata": {
        "id": "FzIrfck12CkV"
      },
      "source": [
        "# upload kaggle file\n",
        "from google.colab import files\n",
        "files.upload()"
      ],
      "execution_count": null,
      "outputs": []
    },
    {
      "cell_type": "code",
      "metadata": {
        "id": "hdBqKkos2S5n"
      },
      "source": [
        "# Install kaggle package\n",
        "!pip install --upgrade --force-reinstall --no-deps kaggle\n",
        "\n",
        "# Ensure kaggle.json is in the location ~/.kaggle/kaggle.json to use the API.\n",
        "!mkdir -p ~/.kaggle\n",
        "!mv kaggle.json ~/.kaggle/\n",
        "!chmod 600 ~/.kaggle/kaggle.json  # set permission"
      ],
      "execution_count": null,
      "outputs": []
    },
    {
      "cell_type": "code",
      "metadata": {
        "id": "tidJxr4-2k7Q"
      },
      "source": [
        "# Use with option -p to choose the destination\n",
        "!kaggle datasets download -d imakash3011/customer-personality-analysis -p /content/gdrive/MyDrive/DATASET/CUSTOMER_PERSONALITY"
      ],
      "execution_count": null,
      "outputs": []
    },
    {
      "cell_type": "code",
      "metadata": {
        "id": "i4E5DNwR22Ug"
      },
      "source": [
        "# Now you can Unzip it!\n",
        "# !unzip -q <SOURCE-PATH> -d <DESTINATION-PATH>\n",
        "\n",
        "!unzip -q /content/gdrive/MyDrive/DATASET/CUSTOMER_PERSONALITY/customer-personality-analysis.zip -d /content/gdrive/MyDrive/DATASET/CUSTOMER_PERSONALITY"
      ],
      "execution_count": null,
      "outputs": []
    },
    {
      "cell_type": "markdown",
      "source": [
        "#Import libraries"
      ],
      "metadata": {
        "id": "Du0CJPnnSf4J"
      }
    },
    {
      "cell_type": "code",
      "source": [
        "import pandas as pd\n",
        "import seaborn as sns \n",
        "import numpy as np\n",
        "import matplotlib.pyplot as plt\n",
        "plt.style.use('seaborn-notebook')\n",
        "\n",
        "from datetime import datetime\n",
        "\n",
        "pd.options.display.float_format = \"{:.5f}\".format\n",
        "# !pip install shap"
      ],
      "metadata": {
        "id": "aJmavQeXSfCy"
      },
      "execution_count": null,
      "outputs": []
    },
    {
      "cell_type": "markdown",
      "source": [
        "#Dataset"
      ],
      "metadata": {
        "id": "6ZLqsqs5rm7y"
      }
    },
    {
      "cell_type": "code",
      "metadata": {
        "colab": {
          "base_uri": "https://localhost:8080/",
          "height": 270
        },
        "id": "-vs-QlJd3Q9e",
        "outputId": "d2b40bed-14a4-4ab6-cd44-b79b0092ed1d"
      },
      "source": [
        "df = pd.read_csv('/content/gdrive/MyDrive/DATASET/CUSTOMER_PERSONALITY/marketing_campaign.csv',sep = \"\\t\")\n",
        "df.head()"
      ],
      "execution_count": null,
      "outputs": [
        {
          "output_type": "execute_result",
          "data": {
            "text/html": [
              "\n",
              "  <div id=\"df-7967bfdd-b29b-4f5b-8e8a-d65ce48ea141\">\n",
              "    <div class=\"colab-df-container\">\n",
              "      <div>\n",
              "<style scoped>\n",
              "    .dataframe tbody tr th:only-of-type {\n",
              "        vertical-align: middle;\n",
              "    }\n",
              "\n",
              "    .dataframe tbody tr th {\n",
              "        vertical-align: top;\n",
              "    }\n",
              "\n",
              "    .dataframe thead th {\n",
              "        text-align: right;\n",
              "    }\n",
              "</style>\n",
              "<table border=\"1\" class=\"dataframe\">\n",
              "  <thead>\n",
              "    <tr style=\"text-align: right;\">\n",
              "      <th></th>\n",
              "      <th>ID</th>\n",
              "      <th>Year_Birth</th>\n",
              "      <th>Education</th>\n",
              "      <th>Marital_Status</th>\n",
              "      <th>Income</th>\n",
              "      <th>Kidhome</th>\n",
              "      <th>Teenhome</th>\n",
              "      <th>Dt_Customer</th>\n",
              "      <th>Recency</th>\n",
              "      <th>MntWines</th>\n",
              "      <th>MntFruits</th>\n",
              "      <th>MntMeatProducts</th>\n",
              "      <th>MntFishProducts</th>\n",
              "      <th>MntSweetProducts</th>\n",
              "      <th>MntGoldProds</th>\n",
              "      <th>NumDealsPurchases</th>\n",
              "      <th>NumWebPurchases</th>\n",
              "      <th>NumCatalogPurchases</th>\n",
              "      <th>NumStorePurchases</th>\n",
              "      <th>NumWebVisitsMonth</th>\n",
              "      <th>AcceptedCmp3</th>\n",
              "      <th>AcceptedCmp4</th>\n",
              "      <th>AcceptedCmp5</th>\n",
              "      <th>AcceptedCmp1</th>\n",
              "      <th>AcceptedCmp2</th>\n",
              "      <th>Complain</th>\n",
              "      <th>Z_CostContact</th>\n",
              "      <th>Z_Revenue</th>\n",
              "      <th>Response</th>\n",
              "    </tr>\n",
              "  </thead>\n",
              "  <tbody>\n",
              "    <tr>\n",
              "      <th>0</th>\n",
              "      <td>5524</td>\n",
              "      <td>1957</td>\n",
              "      <td>Graduation</td>\n",
              "      <td>Single</td>\n",
              "      <td>58138.00000</td>\n",
              "      <td>0</td>\n",
              "      <td>0</td>\n",
              "      <td>04-09-2012</td>\n",
              "      <td>58</td>\n",
              "      <td>635</td>\n",
              "      <td>88</td>\n",
              "      <td>546</td>\n",
              "      <td>172</td>\n",
              "      <td>88</td>\n",
              "      <td>88</td>\n",
              "      <td>3</td>\n",
              "      <td>8</td>\n",
              "      <td>10</td>\n",
              "      <td>4</td>\n",
              "      <td>7</td>\n",
              "      <td>0</td>\n",
              "      <td>0</td>\n",
              "      <td>0</td>\n",
              "      <td>0</td>\n",
              "      <td>0</td>\n",
              "      <td>0</td>\n",
              "      <td>3</td>\n",
              "      <td>11</td>\n",
              "      <td>1</td>\n",
              "    </tr>\n",
              "    <tr>\n",
              "      <th>1</th>\n",
              "      <td>2174</td>\n",
              "      <td>1954</td>\n",
              "      <td>Graduation</td>\n",
              "      <td>Single</td>\n",
              "      <td>46344.00000</td>\n",
              "      <td>1</td>\n",
              "      <td>1</td>\n",
              "      <td>08-03-2014</td>\n",
              "      <td>38</td>\n",
              "      <td>11</td>\n",
              "      <td>1</td>\n",
              "      <td>6</td>\n",
              "      <td>2</td>\n",
              "      <td>1</td>\n",
              "      <td>6</td>\n",
              "      <td>2</td>\n",
              "      <td>1</td>\n",
              "      <td>1</td>\n",
              "      <td>2</td>\n",
              "      <td>5</td>\n",
              "      <td>0</td>\n",
              "      <td>0</td>\n",
              "      <td>0</td>\n",
              "      <td>0</td>\n",
              "      <td>0</td>\n",
              "      <td>0</td>\n",
              "      <td>3</td>\n",
              "      <td>11</td>\n",
              "      <td>0</td>\n",
              "    </tr>\n",
              "    <tr>\n",
              "      <th>2</th>\n",
              "      <td>4141</td>\n",
              "      <td>1965</td>\n",
              "      <td>Graduation</td>\n",
              "      <td>Together</td>\n",
              "      <td>71613.00000</td>\n",
              "      <td>0</td>\n",
              "      <td>0</td>\n",
              "      <td>21-08-2013</td>\n",
              "      <td>26</td>\n",
              "      <td>426</td>\n",
              "      <td>49</td>\n",
              "      <td>127</td>\n",
              "      <td>111</td>\n",
              "      <td>21</td>\n",
              "      <td>42</td>\n",
              "      <td>1</td>\n",
              "      <td>8</td>\n",
              "      <td>2</td>\n",
              "      <td>10</td>\n",
              "      <td>4</td>\n",
              "      <td>0</td>\n",
              "      <td>0</td>\n",
              "      <td>0</td>\n",
              "      <td>0</td>\n",
              "      <td>0</td>\n",
              "      <td>0</td>\n",
              "      <td>3</td>\n",
              "      <td>11</td>\n",
              "      <td>0</td>\n",
              "    </tr>\n",
              "    <tr>\n",
              "      <th>3</th>\n",
              "      <td>6182</td>\n",
              "      <td>1984</td>\n",
              "      <td>Graduation</td>\n",
              "      <td>Together</td>\n",
              "      <td>26646.00000</td>\n",
              "      <td>1</td>\n",
              "      <td>0</td>\n",
              "      <td>10-02-2014</td>\n",
              "      <td>26</td>\n",
              "      <td>11</td>\n",
              "      <td>4</td>\n",
              "      <td>20</td>\n",
              "      <td>10</td>\n",
              "      <td>3</td>\n",
              "      <td>5</td>\n",
              "      <td>2</td>\n",
              "      <td>2</td>\n",
              "      <td>0</td>\n",
              "      <td>4</td>\n",
              "      <td>6</td>\n",
              "      <td>0</td>\n",
              "      <td>0</td>\n",
              "      <td>0</td>\n",
              "      <td>0</td>\n",
              "      <td>0</td>\n",
              "      <td>0</td>\n",
              "      <td>3</td>\n",
              "      <td>11</td>\n",
              "      <td>0</td>\n",
              "    </tr>\n",
              "    <tr>\n",
              "      <th>4</th>\n",
              "      <td>5324</td>\n",
              "      <td>1981</td>\n",
              "      <td>PhD</td>\n",
              "      <td>Married</td>\n",
              "      <td>58293.00000</td>\n",
              "      <td>1</td>\n",
              "      <td>0</td>\n",
              "      <td>19-01-2014</td>\n",
              "      <td>94</td>\n",
              "      <td>173</td>\n",
              "      <td>43</td>\n",
              "      <td>118</td>\n",
              "      <td>46</td>\n",
              "      <td>27</td>\n",
              "      <td>15</td>\n",
              "      <td>5</td>\n",
              "      <td>5</td>\n",
              "      <td>3</td>\n",
              "      <td>6</td>\n",
              "      <td>5</td>\n",
              "      <td>0</td>\n",
              "      <td>0</td>\n",
              "      <td>0</td>\n",
              "      <td>0</td>\n",
              "      <td>0</td>\n",
              "      <td>0</td>\n",
              "      <td>3</td>\n",
              "      <td>11</td>\n",
              "      <td>0</td>\n",
              "    </tr>\n",
              "  </tbody>\n",
              "</table>\n",
              "</div>\n",
              "      <button class=\"colab-df-convert\" onclick=\"convertToInteractive('df-7967bfdd-b29b-4f5b-8e8a-d65ce48ea141')\"\n",
              "              title=\"Convert this dataframe to an interactive table.\"\n",
              "              style=\"display:none;\">\n",
              "        \n",
              "  <svg xmlns=\"http://www.w3.org/2000/svg\" height=\"24px\"viewBox=\"0 0 24 24\"\n",
              "       width=\"24px\">\n",
              "    <path d=\"M0 0h24v24H0V0z\" fill=\"none\"/>\n",
              "    <path d=\"M18.56 5.44l.94 2.06.94-2.06 2.06-.94-2.06-.94-.94-2.06-.94 2.06-2.06.94zm-11 1L8.5 8.5l.94-2.06 2.06-.94-2.06-.94L8.5 2.5l-.94 2.06-2.06.94zm10 10l.94 2.06.94-2.06 2.06-.94-2.06-.94-.94-2.06-.94 2.06-2.06.94z\"/><path d=\"M17.41 7.96l-1.37-1.37c-.4-.4-.92-.59-1.43-.59-.52 0-1.04.2-1.43.59L10.3 9.45l-7.72 7.72c-.78.78-.78 2.05 0 2.83L4 21.41c.39.39.9.59 1.41.59.51 0 1.02-.2 1.41-.59l7.78-7.78 2.81-2.81c.8-.78.8-2.07 0-2.86zM5.41 20L4 18.59l7.72-7.72 1.47 1.35L5.41 20z\"/>\n",
              "  </svg>\n",
              "      </button>\n",
              "      \n",
              "  <style>\n",
              "    .colab-df-container {\n",
              "      display:flex;\n",
              "      flex-wrap:wrap;\n",
              "      gap: 12px;\n",
              "    }\n",
              "\n",
              "    .colab-df-convert {\n",
              "      background-color: #E8F0FE;\n",
              "      border: none;\n",
              "      border-radius: 50%;\n",
              "      cursor: pointer;\n",
              "      display: none;\n",
              "      fill: #1967D2;\n",
              "      height: 32px;\n",
              "      padding: 0 0 0 0;\n",
              "      width: 32px;\n",
              "    }\n",
              "\n",
              "    .colab-df-convert:hover {\n",
              "      background-color: #E2EBFA;\n",
              "      box-shadow: 0px 1px 2px rgba(60, 64, 67, 0.3), 0px 1px 3px 1px rgba(60, 64, 67, 0.15);\n",
              "      fill: #174EA6;\n",
              "    }\n",
              "\n",
              "    [theme=dark] .colab-df-convert {\n",
              "      background-color: #3B4455;\n",
              "      fill: #D2E3FC;\n",
              "    }\n",
              "\n",
              "    [theme=dark] .colab-df-convert:hover {\n",
              "      background-color: #434B5C;\n",
              "      box-shadow: 0px 1px 3px 1px rgba(0, 0, 0, 0.15);\n",
              "      filter: drop-shadow(0px 1px 2px rgba(0, 0, 0, 0.3));\n",
              "      fill: #FFFFFF;\n",
              "    }\n",
              "  </style>\n",
              "\n",
              "      <script>\n",
              "        const buttonEl =\n",
              "          document.querySelector('#df-7967bfdd-b29b-4f5b-8e8a-d65ce48ea141 button.colab-df-convert');\n",
              "        buttonEl.style.display =\n",
              "          google.colab.kernel.accessAllowed ? 'block' : 'none';\n",
              "\n",
              "        async function convertToInteractive(key) {\n",
              "          const element = document.querySelector('#df-7967bfdd-b29b-4f5b-8e8a-d65ce48ea141');\n",
              "          const dataTable =\n",
              "            await google.colab.kernel.invokeFunction('convertToInteractive',\n",
              "                                                     [key], {});\n",
              "          if (!dataTable) return;\n",
              "\n",
              "          const docLinkHtml = 'Like what you see? Visit the ' +\n",
              "            '<a target=\"_blank\" href=https://colab.research.google.com/notebooks/data_table.ipynb>data table notebook</a>'\n",
              "            + ' to learn more about interactive tables.';\n",
              "          element.innerHTML = '';\n",
              "          dataTable['output_type'] = 'display_data';\n",
              "          await google.colab.output.renderOutput(dataTable, element);\n",
              "          const docLink = document.createElement('div');\n",
              "          docLink.innerHTML = docLinkHtml;\n",
              "          element.appendChild(docLink);\n",
              "        }\n",
              "      </script>\n",
              "    </div>\n",
              "  </div>\n",
              "  "
            ],
            "text/plain": [
              "     ID  Year_Birth   Education  ... Z_CostContact  Z_Revenue  Response\n",
              "0  5524        1957  Graduation  ...             3         11         1\n",
              "1  2174        1954  Graduation  ...             3         11         0\n",
              "2  4141        1965  Graduation  ...             3         11         0\n",
              "3  6182        1984  Graduation  ...             3         11         0\n",
              "4  5324        1981         PhD  ...             3         11         0\n",
              "\n",
              "[5 rows x 29 columns]"
            ]
          },
          "metadata": {},
          "execution_count": 4
        }
      ]
    },
    {
      "cell_type": "markdown",
      "source": [
        "#Clean Data"
      ],
      "metadata": {
        "id": "M9JRMLktVvRj"
      }
    },
    {
      "cell_type": "code",
      "source": [
        "#check duplicated row\n",
        "df.duplicated().sum()"
      ],
      "metadata": {
        "colab": {
          "base_uri": "https://localhost:8080/"
        },
        "id": "_E1AVp3bVrFx",
        "outputId": "7faec8a3-fa14-47da-ecbe-d80dd71ad3f9"
      },
      "execution_count": null,
      "outputs": [
        {
          "output_type": "execute_result",
          "data": {
            "text/plain": [
              "0"
            ]
          },
          "metadata": {},
          "execution_count": 5
        }
      ]
    },
    {
      "cell_type": "code",
      "source": [
        "df.isna().sum()"
      ],
      "metadata": {
        "id": "EeE_C1pyteyX",
        "colab": {
          "base_uri": "https://localhost:8080/"
        },
        "outputId": "57e93de1-9982-43fc-f281-bae2e103ee7f"
      },
      "execution_count": null,
      "outputs": [
        {
          "output_type": "execute_result",
          "data": {
            "text/plain": [
              "ID                      0\n",
              "Year_Birth              0\n",
              "Education               0\n",
              "Marital_Status          0\n",
              "Income                 24\n",
              "Kidhome                 0\n",
              "Teenhome                0\n",
              "Dt_Customer             0\n",
              "Recency                 0\n",
              "MntWines                0\n",
              "MntFruits               0\n",
              "MntMeatProducts         0\n",
              "MntFishProducts         0\n",
              "MntSweetProducts        0\n",
              "MntGoldProds            0\n",
              "NumDealsPurchases       0\n",
              "NumWebPurchases         0\n",
              "NumCatalogPurchases     0\n",
              "NumStorePurchases       0\n",
              "NumWebVisitsMonth       0\n",
              "AcceptedCmp3            0\n",
              "AcceptedCmp4            0\n",
              "AcceptedCmp5            0\n",
              "AcceptedCmp1            0\n",
              "AcceptedCmp2            0\n",
              "Complain                0\n",
              "Z_CostContact           0\n",
              "Z_Revenue               0\n",
              "Response                0\n",
              "dtype: int64"
            ]
          },
          "metadata": {},
          "execution_count": 6
        }
      ]
    },
    {
      "cell_type": "code",
      "source": [
        "#Drop columns 'Z_CostContact' and 'Z_Revenue' contains constant value across all the observations \n",
        "# => drop these two column because they will not contribute anything in learning process of the model.\n",
        "df.drop(columns=['Z_CostContact','Z_Revenue'],inplace=True)"
      ],
      "metadata": {
        "id": "TFkiO6nklOyf"
      },
      "execution_count": null,
      "outputs": []
    },
    {
      "cell_type": "code",
      "source": [
        "# tính upper n lower whisker của Income\n",
        "q1_income = df['Income'].quantile(0.25)\n",
        "q3_income = df['Income'].quantile(0.75)\n",
        "\n",
        "iqr_income = q3_income - q1_income\n",
        "\n",
        "lower_income = q1_income - 1.5*iqr_income\n",
        "upper_income = q3_income + 1.5*iqr_income\n",
        "print(lower_income)\n",
        "print(upper_income)"
      ],
      "metadata": {
        "colab": {
          "base_uri": "https://localhost:8080/"
        },
        "id": "Yy5QTRPmz4nV",
        "outputId": "fd0178cf-9141-4d82-c79c-235a0e954a15"
      },
      "execution_count": null,
      "outputs": [
        {
          "output_type": "stream",
          "name": "stdout",
          "text": [
            "-14525.5\n",
            "118350.5\n"
          ]
        }
      ]
    },
    {
      "cell_type": "code",
      "source": [
        "#Create Age of customer Column, since the data is collected within 2 year since 2014 so I'll use that to calculate\n",
        "age_col = 2014 - df['Year_Birth']\n",
        "df.insert(2,'Age',age_col)"
      ],
      "metadata": {
        "id": "1F1UzuQcL4Ru"
      },
      "execution_count": null,
      "outputs": []
    },
    {
      "cell_type": "code",
      "source": [
        "# tính upper n lower whisker của Year_Birth\n",
        "q1_birth = df['Year_Birth'].quantile(0.25)\n",
        "q3_birth = df['Year_Birth'].quantile(0.75)\n",
        "\n",
        "iqr_birth = q3_birth - q1_birth\n",
        "\n",
        "lower_birth = q1_birth - 1.5*iqr_birth\n",
        "upper_birth = q3_birth + 1.5*iqr_birth\n",
        "print(lower_birth)\n",
        "print(upper_birth)"
      ],
      "metadata": {
        "colab": {
          "base_uri": "https://localhost:8080/"
        },
        "id": "chWy5t9t5gMb",
        "outputId": "07cc1985-ec0a-4ac5-a524-12ba2d37161a"
      },
      "execution_count": null,
      "outputs": [
        {
          "output_type": "stream",
          "name": "stdout",
          "text": [
            "1932.0\n",
            "2004.0\n"
          ]
        }
      ]
    },
    {
      "cell_type": "code",
      "source": [
        "# Drop outliers\n",
        "df.drop(df[df['Year_Birth']<1932].index,axis=0,inplace=True)\n",
        "df.drop(df[df['Income']>118350].index,axis=0,inplace=True)\n",
        "\n",
        "#Fill NaN with mean value\n",
        "df['Income'] = df['Income'].fillna(df['Income'].mean())\n",
        "\n",
        "#Combine 2 columns Kidhome and Teenhome to only 1 column: Children then drop them. \n",
        "df['Children'] = df['Kidhome'] + df['Teenhome']\n",
        "df.drop(columns=['Kidhome','Teenhome'],inplace=True)"
      ],
      "metadata": {
        "id": "iChjIzH2Bvzz"
      },
      "execution_count": null,
      "outputs": []
    },
    {
      "cell_type": "code",
      "source": [
        "#Change column Dt_Customer to datetime type\n",
        "df['Dt_Customer'] = pd.to_datetime(df['Dt_Customer'],dayfirst=True)\n",
        "df['Month'] = df['Dt_Customer'].dt.month\n",
        "df['Year'] = df['Dt_Customer'].dt.year\n",
        "df['YearMonth'] = df['Dt_Customer'].map(lambda date: 100*date.year + date.month)"
      ],
      "metadata": {
        "id": "leeQLW0WZDhr"
      },
      "execution_count": null,
      "outputs": []
    },
    {
      "cell_type": "code",
      "source": [
        "df['Dt_Customer'].min()"
      ],
      "metadata": {
        "colab": {
          "base_uri": "https://localhost:8080/"
        },
        "id": "SOo5bA-uJC38",
        "outputId": "e009f070-79a9-44ed-ba34-15f91924b18e"
      },
      "execution_count": null,
      "outputs": [
        {
          "output_type": "execute_result",
          "data": {
            "text/plain": [
              "Timestamp('2012-07-30 00:00:00')"
            ]
          },
          "metadata": {},
          "execution_count": 13
        }
      ]
    },
    {
      "cell_type": "markdown",
      "source": [
        "Dt_Customer data is not full in July 2012 so I'll drop these rows."
      ],
      "metadata": {
        "id": "VCHUjvhkJQN9"
      }
    },
    {
      "cell_type": "code",
      "source": [
        "df.drop(df[df['YearMonth']==201207].index,axis=0,inplace=True)"
      ],
      "metadata": {
        "id": "rmh8E912J4Mx"
      },
      "execution_count": null,
      "outputs": []
    },
    {
      "cell_type": "markdown",
      "source": [
        "**Features Engineering**"
      ],
      "metadata": {
        "id": "e2pkkbeaJE_R"
      }
    },
    {
      "cell_type": "code",
      "source": [
        "#Create more columns\n",
        "df['TotalPurchases'] = df['NumWebPurchases'] + df['NumCatalogPurchases'] + df ['NumStorePurchases']\n",
        "df['TotalProducts'] = df['MntWines'] + df['MntFruits'] + df['MntMeatProducts'] + df['MntFishProducts'] + df['MntSweetProducts'] + df['MntGoldProds']\n",
        "df['TotalAcceptedCmp'] = df['AcceptedCmp3']+ df['AcceptedCmp4']+ df['AcceptedCmp5']+ df['AcceptedCmp1']+ df['AcceptedCmp2']"
      ],
      "metadata": {
        "id": "BeGuPdQ_ONkz"
      },
      "execution_count": null,
      "outputs": []
    },
    {
      "cell_type": "code",
      "source": [
        "#Create column if customer accepts at least 1 campaign => 1, otherwise 0\n",
        "df['AtLeast1Cmp'] = 0\n",
        "df.loc[df['TotalAcceptedCmp']>0,'AtLeast1Cmp'] = 1"
      ],
      "metadata": {
        "id": "Hw71X42Mm3TA"
      },
      "execution_count": null,
      "outputs": []
    },
    {
      "cell_type": "code",
      "source": [
        "#Rename Products columns\n",
        "df = df.rename(columns={\"MntWines\": \"Wines\",\"MntFruits\":\"Fruits\",\"MntMeatProducts\":\"Meat\",\"MntFishProducts\":\"Fish\",\"MntSweetProducts\":\"Sweets\",\"MntGoldProds\":\"Gold\"})\n",
        "\n",
        "# Alone/YOLO/Absurd is considered single so I'll change them to Single\n",
        "df['Marital_Status'].replace({'Alone':'Single','YOLO':'Single','Absurd':'Single'},inplace=True)\n",
        "\n",
        "# Change 2n Cycle to Master\n",
        "df['Education'].replace({'2n Cycle':'Master'},inplace=True)"
      ],
      "metadata": {
        "id": "uKkEIjVIusN6"
      },
      "execution_count": null,
      "outputs": []
    },
    {
      "cell_type": "code",
      "source": [
        "# Divide Income and Age to groups and compute new columns.\n",
        "\n",
        "#Income group\n",
        "category_income = pd.cut(df['Income'],bins=[0,35000,51000,68000,115000],labels=['Low Income','Lower Middle','Upper Middle','High Income'])\n",
        "df.insert(5,'Income Group',category_income)\n",
        "#Age group\n",
        "category_age = pd.cut(df['Age'],bins=[0,39,59,99],labels=['Young Adult','Middle Aged','Old Adult'])\n",
        "df.insert(2,'Age Group',category_age)"
      ],
      "metadata": {
        "id": "1jB27SxwIfAg"
      },
      "execution_count": null,
      "outputs": []
    },
    {
      "cell_type": "code",
      "source": [
        "#Drop unsused columns\n",
        "df.drop(columns=['ID','Year_Birth','Dt_Customer'],inplace=True)"
      ],
      "metadata": {
        "id": "BDcLRpUqbo4j"
      },
      "execution_count": null,
      "outputs": []
    },
    {
      "cell_type": "code",
      "source": [
        "df.head()"
      ],
      "metadata": {
        "colab": {
          "base_uri": "https://localhost:8080/"
        },
        "id": "yFsTiTL7MIQX",
        "outputId": "e1d6308f-99bd-430b-e72a-625d4d8f8a03"
      },
      "execution_count": null,
      "outputs": [
        {
          "output_type": "execute_result",
          "data": {
            "text/html": [
              "\n",
              "  <div id=\"df-0c816867-0836-4936-ad6e-76ee94bad90f\">\n",
              "    <div class=\"colab-df-container\">\n",
              "      <div>\n",
              "<style scoped>\n",
              "    .dataframe tbody tr th:only-of-type {\n",
              "        vertical-align: middle;\n",
              "    }\n",
              "\n",
              "    .dataframe tbody tr th {\n",
              "        vertical-align: top;\n",
              "    }\n",
              "\n",
              "    .dataframe thead th {\n",
              "        text-align: right;\n",
              "    }\n",
              "</style>\n",
              "<table border=\"1\" class=\"dataframe\">\n",
              "  <thead>\n",
              "    <tr style=\"text-align: right;\">\n",
              "      <th></th>\n",
              "      <th>Age Group</th>\n",
              "      <th>Age</th>\n",
              "      <th>Education</th>\n",
              "      <th>Marital_Status</th>\n",
              "      <th>Income Group</th>\n",
              "      <th>Income</th>\n",
              "      <th>Recency</th>\n",
              "      <th>Wines</th>\n",
              "      <th>Fruits</th>\n",
              "      <th>Meat</th>\n",
              "      <th>Fish</th>\n",
              "      <th>Sweets</th>\n",
              "      <th>Gold</th>\n",
              "      <th>NumDealsPurchases</th>\n",
              "      <th>NumWebPurchases</th>\n",
              "      <th>NumCatalogPurchases</th>\n",
              "      <th>NumStorePurchases</th>\n",
              "      <th>NumWebVisitsMonth</th>\n",
              "      <th>AcceptedCmp3</th>\n",
              "      <th>AcceptedCmp4</th>\n",
              "      <th>AcceptedCmp5</th>\n",
              "      <th>AcceptedCmp1</th>\n",
              "      <th>AcceptedCmp2</th>\n",
              "      <th>Complain</th>\n",
              "      <th>Response</th>\n",
              "      <th>Children</th>\n",
              "      <th>Month</th>\n",
              "      <th>Year</th>\n",
              "      <th>YearMonth</th>\n",
              "      <th>TotalPurchases</th>\n",
              "      <th>TotalProducts</th>\n",
              "      <th>TotalAcceptedCmp</th>\n",
              "      <th>AtLeast1Cmp</th>\n",
              "    </tr>\n",
              "  </thead>\n",
              "  <tbody>\n",
              "    <tr>\n",
              "      <th>0</th>\n",
              "      <td>Middle Aged</td>\n",
              "      <td>57</td>\n",
              "      <td>Graduation</td>\n",
              "      <td>Single</td>\n",
              "      <td>Upper Middle</td>\n",
              "      <td>58138.00000</td>\n",
              "      <td>58</td>\n",
              "      <td>635</td>\n",
              "      <td>88</td>\n",
              "      <td>546</td>\n",
              "      <td>172</td>\n",
              "      <td>88</td>\n",
              "      <td>88</td>\n",
              "      <td>3</td>\n",
              "      <td>8</td>\n",
              "      <td>10</td>\n",
              "      <td>4</td>\n",
              "      <td>7</td>\n",
              "      <td>0</td>\n",
              "      <td>0</td>\n",
              "      <td>0</td>\n",
              "      <td>0</td>\n",
              "      <td>0</td>\n",
              "      <td>0</td>\n",
              "      <td>1</td>\n",
              "      <td>0</td>\n",
              "      <td>9</td>\n",
              "      <td>2012</td>\n",
              "      <td>201209</td>\n",
              "      <td>22</td>\n",
              "      <td>1617</td>\n",
              "      <td>0</td>\n",
              "      <td>0</td>\n",
              "    </tr>\n",
              "    <tr>\n",
              "      <th>1</th>\n",
              "      <td>Old Adult</td>\n",
              "      <td>60</td>\n",
              "      <td>Graduation</td>\n",
              "      <td>Single</td>\n",
              "      <td>Lower Middle</td>\n",
              "      <td>46344.00000</td>\n",
              "      <td>38</td>\n",
              "      <td>11</td>\n",
              "      <td>1</td>\n",
              "      <td>6</td>\n",
              "      <td>2</td>\n",
              "      <td>1</td>\n",
              "      <td>6</td>\n",
              "      <td>2</td>\n",
              "      <td>1</td>\n",
              "      <td>1</td>\n",
              "      <td>2</td>\n",
              "      <td>5</td>\n",
              "      <td>0</td>\n",
              "      <td>0</td>\n",
              "      <td>0</td>\n",
              "      <td>0</td>\n",
              "      <td>0</td>\n",
              "      <td>0</td>\n",
              "      <td>0</td>\n",
              "      <td>2</td>\n",
              "      <td>3</td>\n",
              "      <td>2014</td>\n",
              "      <td>201403</td>\n",
              "      <td>4</td>\n",
              "      <td>27</td>\n",
              "      <td>0</td>\n",
              "      <td>0</td>\n",
              "    </tr>\n",
              "    <tr>\n",
              "      <th>2</th>\n",
              "      <td>Middle Aged</td>\n",
              "      <td>49</td>\n",
              "      <td>Graduation</td>\n",
              "      <td>Together</td>\n",
              "      <td>High Income</td>\n",
              "      <td>71613.00000</td>\n",
              "      <td>26</td>\n",
              "      <td>426</td>\n",
              "      <td>49</td>\n",
              "      <td>127</td>\n",
              "      <td>111</td>\n",
              "      <td>21</td>\n",
              "      <td>42</td>\n",
              "      <td>1</td>\n",
              "      <td>8</td>\n",
              "      <td>2</td>\n",
              "      <td>10</td>\n",
              "      <td>4</td>\n",
              "      <td>0</td>\n",
              "      <td>0</td>\n",
              "      <td>0</td>\n",
              "      <td>0</td>\n",
              "      <td>0</td>\n",
              "      <td>0</td>\n",
              "      <td>0</td>\n",
              "      <td>0</td>\n",
              "      <td>8</td>\n",
              "      <td>2013</td>\n",
              "      <td>201308</td>\n",
              "      <td>20</td>\n",
              "      <td>776</td>\n",
              "      <td>0</td>\n",
              "      <td>0</td>\n",
              "    </tr>\n",
              "    <tr>\n",
              "      <th>3</th>\n",
              "      <td>Young Adult</td>\n",
              "      <td>30</td>\n",
              "      <td>Graduation</td>\n",
              "      <td>Together</td>\n",
              "      <td>Low Income</td>\n",
              "      <td>26646.00000</td>\n",
              "      <td>26</td>\n",
              "      <td>11</td>\n",
              "      <td>4</td>\n",
              "      <td>20</td>\n",
              "      <td>10</td>\n",
              "      <td>3</td>\n",
              "      <td>5</td>\n",
              "      <td>2</td>\n",
              "      <td>2</td>\n",
              "      <td>0</td>\n",
              "      <td>4</td>\n",
              "      <td>6</td>\n",
              "      <td>0</td>\n",
              "      <td>0</td>\n",
              "      <td>0</td>\n",
              "      <td>0</td>\n",
              "      <td>0</td>\n",
              "      <td>0</td>\n",
              "      <td>0</td>\n",
              "      <td>1</td>\n",
              "      <td>2</td>\n",
              "      <td>2014</td>\n",
              "      <td>201402</td>\n",
              "      <td>6</td>\n",
              "      <td>53</td>\n",
              "      <td>0</td>\n",
              "      <td>0</td>\n",
              "    </tr>\n",
              "    <tr>\n",
              "      <th>4</th>\n",
              "      <td>Young Adult</td>\n",
              "      <td>33</td>\n",
              "      <td>PhD</td>\n",
              "      <td>Married</td>\n",
              "      <td>Upper Middle</td>\n",
              "      <td>58293.00000</td>\n",
              "      <td>94</td>\n",
              "      <td>173</td>\n",
              "      <td>43</td>\n",
              "      <td>118</td>\n",
              "      <td>46</td>\n",
              "      <td>27</td>\n",
              "      <td>15</td>\n",
              "      <td>5</td>\n",
              "      <td>5</td>\n",
              "      <td>3</td>\n",
              "      <td>6</td>\n",
              "      <td>5</td>\n",
              "      <td>0</td>\n",
              "      <td>0</td>\n",
              "      <td>0</td>\n",
              "      <td>0</td>\n",
              "      <td>0</td>\n",
              "      <td>0</td>\n",
              "      <td>0</td>\n",
              "      <td>1</td>\n",
              "      <td>1</td>\n",
              "      <td>2014</td>\n",
              "      <td>201401</td>\n",
              "      <td>14</td>\n",
              "      <td>422</td>\n",
              "      <td>0</td>\n",
              "      <td>0</td>\n",
              "    </tr>\n",
              "  </tbody>\n",
              "</table>\n",
              "</div>\n",
              "      <button class=\"colab-df-convert\" onclick=\"convertToInteractive('df-0c816867-0836-4936-ad6e-76ee94bad90f')\"\n",
              "              title=\"Convert this dataframe to an interactive table.\"\n",
              "              style=\"display:none;\">\n",
              "        \n",
              "  <svg xmlns=\"http://www.w3.org/2000/svg\" height=\"24px\"viewBox=\"0 0 24 24\"\n",
              "       width=\"24px\">\n",
              "    <path d=\"M0 0h24v24H0V0z\" fill=\"none\"/>\n",
              "    <path d=\"M18.56 5.44l.94 2.06.94-2.06 2.06-.94-2.06-.94-.94-2.06-.94 2.06-2.06.94zm-11 1L8.5 8.5l.94-2.06 2.06-.94-2.06-.94L8.5 2.5l-.94 2.06-2.06.94zm10 10l.94 2.06.94-2.06 2.06-.94-2.06-.94-.94-2.06-.94 2.06-2.06.94z\"/><path d=\"M17.41 7.96l-1.37-1.37c-.4-.4-.92-.59-1.43-.59-.52 0-1.04.2-1.43.59L10.3 9.45l-7.72 7.72c-.78.78-.78 2.05 0 2.83L4 21.41c.39.39.9.59 1.41.59.51 0 1.02-.2 1.41-.59l7.78-7.78 2.81-2.81c.8-.78.8-2.07 0-2.86zM5.41 20L4 18.59l7.72-7.72 1.47 1.35L5.41 20z\"/>\n",
              "  </svg>\n",
              "      </button>\n",
              "      \n",
              "  <style>\n",
              "    .colab-df-container {\n",
              "      display:flex;\n",
              "      flex-wrap:wrap;\n",
              "      gap: 12px;\n",
              "    }\n",
              "\n",
              "    .colab-df-convert {\n",
              "      background-color: #E8F0FE;\n",
              "      border: none;\n",
              "      border-radius: 50%;\n",
              "      cursor: pointer;\n",
              "      display: none;\n",
              "      fill: #1967D2;\n",
              "      height: 32px;\n",
              "      padding: 0 0 0 0;\n",
              "      width: 32px;\n",
              "    }\n",
              "\n",
              "    .colab-df-convert:hover {\n",
              "      background-color: #E2EBFA;\n",
              "      box-shadow: 0px 1px 2px rgba(60, 64, 67, 0.3), 0px 1px 3px 1px rgba(60, 64, 67, 0.15);\n",
              "      fill: #174EA6;\n",
              "    }\n",
              "\n",
              "    [theme=dark] .colab-df-convert {\n",
              "      background-color: #3B4455;\n",
              "      fill: #D2E3FC;\n",
              "    }\n",
              "\n",
              "    [theme=dark] .colab-df-convert:hover {\n",
              "      background-color: #434B5C;\n",
              "      box-shadow: 0px 1px 3px 1px rgba(0, 0, 0, 0.15);\n",
              "      filter: drop-shadow(0px 1px 2px rgba(0, 0, 0, 0.3));\n",
              "      fill: #FFFFFF;\n",
              "    }\n",
              "  </style>\n",
              "\n",
              "      <script>\n",
              "        const buttonEl =\n",
              "          document.querySelector('#df-0c816867-0836-4936-ad6e-76ee94bad90f button.colab-df-convert');\n",
              "        buttonEl.style.display =\n",
              "          google.colab.kernel.accessAllowed ? 'block' : 'none';\n",
              "\n",
              "        async function convertToInteractive(key) {\n",
              "          const element = document.querySelector('#df-0c816867-0836-4936-ad6e-76ee94bad90f');\n",
              "          const dataTable =\n",
              "            await google.colab.kernel.invokeFunction('convertToInteractive',\n",
              "                                                     [key], {});\n",
              "          if (!dataTable) return;\n",
              "\n",
              "          const docLinkHtml = 'Like what you see? Visit the ' +\n",
              "            '<a target=\"_blank\" href=https://colab.research.google.com/notebooks/data_table.ipynb>data table notebook</a>'\n",
              "            + ' to learn more about interactive tables.';\n",
              "          element.innerHTML = '';\n",
              "          dataTable['output_type'] = 'display_data';\n",
              "          await google.colab.output.renderOutput(dataTable, element);\n",
              "          const docLink = document.createElement('div');\n",
              "          docLink.innerHTML = docLinkHtml;\n",
              "          element.appendChild(docLink);\n",
              "        }\n",
              "      </script>\n",
              "    </div>\n",
              "  </div>\n",
              "  "
            ],
            "text/plain": [
              "     Age Group  Age   Education  ... TotalProducts TotalAcceptedCmp  AtLeast1Cmp\n",
              "0  Middle Aged   57  Graduation  ...          1617                0            0\n",
              "1    Old Adult   60  Graduation  ...            27                0            0\n",
              "2  Middle Aged   49  Graduation  ...           776                0            0\n",
              "3  Young Adult   30  Graduation  ...            53                0            0\n",
              "4  Young Adult   33         PhD  ...           422                0            0\n",
              "\n",
              "[5 rows x 33 columns]"
            ]
          },
          "metadata": {},
          "execution_count": 20
        }
      ]
    },
    {
      "cell_type": "markdown",
      "source": [
        "#Build model to predict"
      ],
      "metadata": {
        "id": "eBTEup5zEfZH"
      }
    },
    {
      "cell_type": "markdown",
      "source": [
        "I'll build a model to predict if a customer accept any marketing campaign or not at all using the columns \"AtLeast1Cmp\".\n",
        "\n",
        "First create a new data frame contains only columns that are useful for the model to predict."
      ],
      "metadata": {
        "id": "vJmOlgoLGtCQ"
      }
    },
    {
      "cell_type": "code",
      "source": [
        "data = df.copy()\n",
        "data.drop(columns=['AcceptedCmp1','AcceptedCmp2','AcceptedCmp3','AcceptedCmp4','AcceptedCmp5','TotalAcceptedCmp','Response','YearMonth'],axis=1,inplace=True)"
      ],
      "metadata": {
        "id": "5Z2uyDP-OruN"
      },
      "execution_count": null,
      "outputs": []
    },
    {
      "cell_type": "code",
      "source": [
        "data.tail()"
      ],
      "metadata": {
        "colab": {
          "base_uri": "https://localhost:8080/",
          "height": 374
        },
        "id": "k3XGyjMlM-z-",
        "outputId": "10b1d6a6-b92b-4106-b341-854f1f02cd1b"
      },
      "execution_count": null,
      "outputs": [
        {
          "output_type": "execute_result",
          "data": {
            "text/html": [
              "\n",
              "  <div id=\"df-2a87451b-82f8-4879-9049-374d814814f2\">\n",
              "    <div class=\"colab-df-container\">\n",
              "      <div>\n",
              "<style scoped>\n",
              "    .dataframe tbody tr th:only-of-type {\n",
              "        vertical-align: middle;\n",
              "    }\n",
              "\n",
              "    .dataframe tbody tr th {\n",
              "        vertical-align: top;\n",
              "    }\n",
              "\n",
              "    .dataframe thead th {\n",
              "        text-align: right;\n",
              "    }\n",
              "</style>\n",
              "<table border=\"1\" class=\"dataframe\">\n",
              "  <thead>\n",
              "    <tr style=\"text-align: right;\">\n",
              "      <th></th>\n",
              "      <th>Age Group</th>\n",
              "      <th>Age</th>\n",
              "      <th>Education</th>\n",
              "      <th>Marital_Status</th>\n",
              "      <th>Income Group</th>\n",
              "      <th>Income</th>\n",
              "      <th>Recency</th>\n",
              "      <th>Wines</th>\n",
              "      <th>Fruits</th>\n",
              "      <th>Meat</th>\n",
              "      <th>Fish</th>\n",
              "      <th>Sweets</th>\n",
              "      <th>Gold</th>\n",
              "      <th>NumDealsPurchases</th>\n",
              "      <th>NumWebPurchases</th>\n",
              "      <th>NumCatalogPurchases</th>\n",
              "      <th>NumStorePurchases</th>\n",
              "      <th>NumWebVisitsMonth</th>\n",
              "      <th>Complain</th>\n",
              "      <th>Children</th>\n",
              "      <th>Month</th>\n",
              "      <th>Year</th>\n",
              "      <th>TotalPurchases</th>\n",
              "      <th>TotalProducts</th>\n",
              "      <th>AtLeast1Cmp</th>\n",
              "    </tr>\n",
              "  </thead>\n",
              "  <tbody>\n",
              "    <tr>\n",
              "      <th>2235</th>\n",
              "      <td>Middle Aged</td>\n",
              "      <td>47</td>\n",
              "      <td>Graduation</td>\n",
              "      <td>Married</td>\n",
              "      <td>Upper Middle</td>\n",
              "      <td>61223.00000</td>\n",
              "      <td>46</td>\n",
              "      <td>709</td>\n",
              "      <td>43</td>\n",
              "      <td>182</td>\n",
              "      <td>42</td>\n",
              "      <td>118</td>\n",
              "      <td>247</td>\n",
              "      <td>2</td>\n",
              "      <td>9</td>\n",
              "      <td>3</td>\n",
              "      <td>4</td>\n",
              "      <td>5</td>\n",
              "      <td>0</td>\n",
              "      <td>1</td>\n",
              "      <td>6</td>\n",
              "      <td>2013</td>\n",
              "      <td>16</td>\n",
              "      <td>1341</td>\n",
              "      <td>0</td>\n",
              "    </tr>\n",
              "    <tr>\n",
              "      <th>2236</th>\n",
              "      <td>Old Adult</td>\n",
              "      <td>68</td>\n",
              "      <td>PhD</td>\n",
              "      <td>Together</td>\n",
              "      <td>Upper Middle</td>\n",
              "      <td>64014.00000</td>\n",
              "      <td>56</td>\n",
              "      <td>406</td>\n",
              "      <td>0</td>\n",
              "      <td>30</td>\n",
              "      <td>0</td>\n",
              "      <td>0</td>\n",
              "      <td>8</td>\n",
              "      <td>7</td>\n",
              "      <td>8</td>\n",
              "      <td>2</td>\n",
              "      <td>5</td>\n",
              "      <td>7</td>\n",
              "      <td>0</td>\n",
              "      <td>3</td>\n",
              "      <td>6</td>\n",
              "      <td>2014</td>\n",
              "      <td>15</td>\n",
              "      <td>444</td>\n",
              "      <td>1</td>\n",
              "    </tr>\n",
              "    <tr>\n",
              "      <th>2237</th>\n",
              "      <td>Young Adult</td>\n",
              "      <td>33</td>\n",
              "      <td>Graduation</td>\n",
              "      <td>Divorced</td>\n",
              "      <td>Upper Middle</td>\n",
              "      <td>56981.00000</td>\n",
              "      <td>91</td>\n",
              "      <td>908</td>\n",
              "      <td>48</td>\n",
              "      <td>217</td>\n",
              "      <td>32</td>\n",
              "      <td>12</td>\n",
              "      <td>24</td>\n",
              "      <td>1</td>\n",
              "      <td>2</td>\n",
              "      <td>3</td>\n",
              "      <td>13</td>\n",
              "      <td>6</td>\n",
              "      <td>0</td>\n",
              "      <td>0</td>\n",
              "      <td>1</td>\n",
              "      <td>2014</td>\n",
              "      <td>18</td>\n",
              "      <td>1241</td>\n",
              "      <td>1</td>\n",
              "    </tr>\n",
              "    <tr>\n",
              "      <th>2238</th>\n",
              "      <td>Middle Aged</td>\n",
              "      <td>58</td>\n",
              "      <td>Master</td>\n",
              "      <td>Together</td>\n",
              "      <td>High Income</td>\n",
              "      <td>69245.00000</td>\n",
              "      <td>8</td>\n",
              "      <td>428</td>\n",
              "      <td>30</td>\n",
              "      <td>214</td>\n",
              "      <td>80</td>\n",
              "      <td>30</td>\n",
              "      <td>61</td>\n",
              "      <td>2</td>\n",
              "      <td>6</td>\n",
              "      <td>5</td>\n",
              "      <td>10</td>\n",
              "      <td>3</td>\n",
              "      <td>0</td>\n",
              "      <td>1</td>\n",
              "      <td>1</td>\n",
              "      <td>2014</td>\n",
              "      <td>21</td>\n",
              "      <td>843</td>\n",
              "      <td>0</td>\n",
              "    </tr>\n",
              "    <tr>\n",
              "      <th>2239</th>\n",
              "      <td>Old Adult</td>\n",
              "      <td>60</td>\n",
              "      <td>PhD</td>\n",
              "      <td>Married</td>\n",
              "      <td>Upper Middle</td>\n",
              "      <td>52869.00000</td>\n",
              "      <td>40</td>\n",
              "      <td>84</td>\n",
              "      <td>3</td>\n",
              "      <td>61</td>\n",
              "      <td>2</td>\n",
              "      <td>1</td>\n",
              "      <td>21</td>\n",
              "      <td>3</td>\n",
              "      <td>3</td>\n",
              "      <td>1</td>\n",
              "      <td>4</td>\n",
              "      <td>7</td>\n",
              "      <td>0</td>\n",
              "      <td>2</td>\n",
              "      <td>10</td>\n",
              "      <td>2012</td>\n",
              "      <td>8</td>\n",
              "      <td>172</td>\n",
              "      <td>0</td>\n",
              "    </tr>\n",
              "  </tbody>\n",
              "</table>\n",
              "</div>\n",
              "      <button class=\"colab-df-convert\" onclick=\"convertToInteractive('df-2a87451b-82f8-4879-9049-374d814814f2')\"\n",
              "              title=\"Convert this dataframe to an interactive table.\"\n",
              "              style=\"display:none;\">\n",
              "        \n",
              "  <svg xmlns=\"http://www.w3.org/2000/svg\" height=\"24px\"viewBox=\"0 0 24 24\"\n",
              "       width=\"24px\">\n",
              "    <path d=\"M0 0h24v24H0V0z\" fill=\"none\"/>\n",
              "    <path d=\"M18.56 5.44l.94 2.06.94-2.06 2.06-.94-2.06-.94-.94-2.06-.94 2.06-2.06.94zm-11 1L8.5 8.5l.94-2.06 2.06-.94-2.06-.94L8.5 2.5l-.94 2.06-2.06.94zm10 10l.94 2.06.94-2.06 2.06-.94-2.06-.94-.94-2.06-.94 2.06-2.06.94z\"/><path d=\"M17.41 7.96l-1.37-1.37c-.4-.4-.92-.59-1.43-.59-.52 0-1.04.2-1.43.59L10.3 9.45l-7.72 7.72c-.78.78-.78 2.05 0 2.83L4 21.41c.39.39.9.59 1.41.59.51 0 1.02-.2 1.41-.59l7.78-7.78 2.81-2.81c.8-.78.8-2.07 0-2.86zM5.41 20L4 18.59l7.72-7.72 1.47 1.35L5.41 20z\"/>\n",
              "  </svg>\n",
              "      </button>\n",
              "      \n",
              "  <style>\n",
              "    .colab-df-container {\n",
              "      display:flex;\n",
              "      flex-wrap:wrap;\n",
              "      gap: 12px;\n",
              "    }\n",
              "\n",
              "    .colab-df-convert {\n",
              "      background-color: #E8F0FE;\n",
              "      border: none;\n",
              "      border-radius: 50%;\n",
              "      cursor: pointer;\n",
              "      display: none;\n",
              "      fill: #1967D2;\n",
              "      height: 32px;\n",
              "      padding: 0 0 0 0;\n",
              "      width: 32px;\n",
              "    }\n",
              "\n",
              "    .colab-df-convert:hover {\n",
              "      background-color: #E2EBFA;\n",
              "      box-shadow: 0px 1px 2px rgba(60, 64, 67, 0.3), 0px 1px 3px 1px rgba(60, 64, 67, 0.15);\n",
              "      fill: #174EA6;\n",
              "    }\n",
              "\n",
              "    [theme=dark] .colab-df-convert {\n",
              "      background-color: #3B4455;\n",
              "      fill: #D2E3FC;\n",
              "    }\n",
              "\n",
              "    [theme=dark] .colab-df-convert:hover {\n",
              "      background-color: #434B5C;\n",
              "      box-shadow: 0px 1px 3px 1px rgba(0, 0, 0, 0.15);\n",
              "      filter: drop-shadow(0px 1px 2px rgba(0, 0, 0, 0.3));\n",
              "      fill: #FFFFFF;\n",
              "    }\n",
              "  </style>\n",
              "\n",
              "      <script>\n",
              "        const buttonEl =\n",
              "          document.querySelector('#df-2a87451b-82f8-4879-9049-374d814814f2 button.colab-df-convert');\n",
              "        buttonEl.style.display =\n",
              "          google.colab.kernel.accessAllowed ? 'block' : 'none';\n",
              "\n",
              "        async function convertToInteractive(key) {\n",
              "          const element = document.querySelector('#df-2a87451b-82f8-4879-9049-374d814814f2');\n",
              "          const dataTable =\n",
              "            await google.colab.kernel.invokeFunction('convertToInteractive',\n",
              "                                                     [key], {});\n",
              "          if (!dataTable) return;\n",
              "\n",
              "          const docLinkHtml = 'Like what you see? Visit the ' +\n",
              "            '<a target=\"_blank\" href=https://colab.research.google.com/notebooks/data_table.ipynb>data table notebook</a>'\n",
              "            + ' to learn more about interactive tables.';\n",
              "          element.innerHTML = '';\n",
              "          dataTable['output_type'] = 'display_data';\n",
              "          await google.colab.output.renderOutput(dataTable, element);\n",
              "          const docLink = document.createElement('div');\n",
              "          docLink.innerHTML = docLinkHtml;\n",
              "          element.appendChild(docLink);\n",
              "        }\n",
              "      </script>\n",
              "    </div>\n",
              "  </div>\n",
              "  "
            ],
            "text/plain": [
              "        Age Group  Age   Education  ... TotalPurchases TotalProducts  AtLeast1Cmp\n",
              "2235  Middle Aged   47  Graduation  ...             16          1341            0\n",
              "2236    Old Adult   68         PhD  ...             15           444            1\n",
              "2237  Young Adult   33  Graduation  ...             18          1241            1\n",
              "2238  Middle Aged   58      Master  ...             21           843            0\n",
              "2239    Old Adult   60         PhD  ...              8           172            0\n",
              "\n",
              "[5 rows x 25 columns]"
            ]
          },
          "metadata": {},
          "execution_count": 22
        }
      ]
    },
    {
      "cell_type": "code",
      "source": [
        "#save csv file\n",
        "data.to_csv('/content/gdrive/MyDrive/DATASET/Final_Project_MLE/data_CusPers_cleaned_WithID.csv')"
      ],
      "metadata": {
        "id": "Wc5zoO6p5J0n"
      },
      "execution_count": null,
      "outputs": []
    },
    {
      "cell_type": "markdown",
      "source": [
        "## Import libraries"
      ],
      "metadata": {
        "id": "iOdE-C15zP2p"
      }
    },
    {
      "cell_type": "code",
      "source": [
        "# Import the libraries\n",
        "from sklearn.pipeline import Pipeline\n",
        "from sklearn.preprocessing import MinMaxScaler, StandardScaler, PolynomialFeatures, OneHotEncoder, OrdinalEncoder\n",
        "from sklearn.compose import ColumnTransformer\n",
        "from sklearn.model_selection import GridSearchCV,RandomizedSearchCV\n",
        "from sklearn.model_selection import train_test_split, GridSearchCV, StratifiedKFold\n",
        "from sklearn.linear_model import LogisticRegression\n",
        "from imblearn.over_sampling import SMOTE #balance classes\n",
        "from imblearn.pipeline import Pipeline as imbpipeline\n",
        "\n",
        "from sklearn.ensemble import RandomForestClassifier, RandomForestRegressor\n",
        "from sklearn.metrics import accuracy_score , roc_auc_score, f1_score\n",
        "\n",
        "import xgboost as xgb\n",
        "from xgboost import plot_importance\n",
        "import lightgbm as lgb"
      ],
      "metadata": {
        "id": "3LktWjvtTzzq"
      },
      "execution_count": null,
      "outputs": []
    },
    {
      "cell_type": "markdown",
      "source": [
        "##Preprocess Data"
      ],
      "metadata": {
        "id": "Vp05Ri9fUFtw"
      }
    },
    {
      "cell_type": "markdown",
      "source": [
        "Train-test split Data"
      ],
      "metadata": {
        "id": "ZnYwFllEU-f9"
      }
    },
    {
      "cell_type": "code",
      "source": [
        "#Define X and y\n",
        "X = data[data.columns[~data.columns.isin(['AtLeast1Cmp'])]] #choose columns not include column 'AtlLeast1Cmp'\n",
        "y = data[['AtLeast1Cmp']].values\n",
        "\n",
        "#Train-test split Data\n",
        "X_train, X_test, y_train, y_test = train_test_split(X,y,test_size=0.2,stratify=y, random_state=42)\n",
        "print('Training set:', X_train.shape, y_train.shape)\n",
        "print('Test set:', X_test.shape, y_test.shape)"
      ],
      "metadata": {
        "colab": {
          "base_uri": "https://localhost:8080/"
        },
        "id": "xY1ARQjhVec-",
        "outputId": "3ae00527-d0f8-4691-ca99-1226e4e48d61"
      },
      "execution_count": null,
      "outputs": [
        {
          "output_type": "stream",
          "name": "stdout",
          "text": [
            "Training set: (1781, 24) (1781, 1)\n",
            "Test set: (446, 24) (446, 1)\n"
          ]
        }
      ]
    },
    {
      "cell_type": "markdown",
      "source": [
        "###Normalization/OneHotEncode"
      ],
      "metadata": {
        "id": "Pkh0vOOIXETn"
      }
    },
    {
      "cell_type": "code",
      "source": [
        "X_train.info()"
      ],
      "metadata": {
        "colab": {
          "base_uri": "https://localhost:8080/"
        },
        "id": "Hvjv37KfbVi5",
        "outputId": "d8d3f38b-4d6c-489a-c55c-801a6c1f6cd2"
      },
      "execution_count": null,
      "outputs": [
        {
          "output_type": "stream",
          "name": "stdout",
          "text": [
            "<class 'pandas.core.frame.DataFrame'>\n",
            "Int64Index: 1781 entries, 1497 to 1349\n",
            "Data columns (total 24 columns):\n",
            " #   Column               Non-Null Count  Dtype   \n",
            "---  ------               --------------  -----   \n",
            " 0   Age Group            1781 non-null   category\n",
            " 1   Age                  1781 non-null   int64   \n",
            " 2   Education            1781 non-null   object  \n",
            " 3   Marital_Status       1781 non-null   object  \n",
            " 4   Income Group         1781 non-null   category\n",
            " 5   Income               1781 non-null   float64 \n",
            " 6   Recency              1781 non-null   int64   \n",
            " 7   Wines                1781 non-null   int64   \n",
            " 8   Fruits               1781 non-null   int64   \n",
            " 9   Meat                 1781 non-null   int64   \n",
            " 10  Fish                 1781 non-null   int64   \n",
            " 11  Sweets               1781 non-null   int64   \n",
            " 12  Gold                 1781 non-null   int64   \n",
            " 13  NumDealsPurchases    1781 non-null   int64   \n",
            " 14  NumWebPurchases      1781 non-null   int64   \n",
            " 15  NumCatalogPurchases  1781 non-null   int64   \n",
            " 16  NumStorePurchases    1781 non-null   int64   \n",
            " 17  NumWebVisitsMonth    1781 non-null   int64   \n",
            " 18  Complain             1781 non-null   int64   \n",
            " 19  Children             1781 non-null   int64   \n",
            " 20  Month                1781 non-null   int64   \n",
            " 21  Year                 1781 non-null   int64   \n",
            " 22  TotalPurchases       1781 non-null   int64   \n",
            " 23  TotalProducts        1781 non-null   int64   \n",
            "dtypes: category(2), float64(1), int64(19), object(2)\n",
            "memory usage: 323.8+ KB\n"
          ]
        }
      ]
    },
    {
      "cell_type": "markdown",
      "source": [
        "For all the numerical features in this dataset, we will use MinMaxScaler. For the categorical feature, we will use OneHotEncoder. We will use ColumnTransformer to put them together. Let's define these objects below\n",
        "\n",
        "First we will define 2 lists of column names, one for the MinMaxScaler preprocessing, and one for the OneHotEncoder"
      ],
      "metadata": {
        "id": "6z200nQLirSG"
      }
    },
    {
      "cell_type": "code",
      "source": [
        "#List numerical and categorical features\n",
        "num_features = ['Age','Income','Recency','Wines','Fruits','Meat','Fish','Sweets','Gold','NumDealsPurchases', 'NumWebPurchases',\t'NumCatalogPurchases','NumStorePurchases','NumWebVisitsMonth','Complain','Children','Month','Year', 'TotalPurchases','TotalProducts']\n",
        "cat_features = ['Education','Age Group','Marital_Status','Income Group']\n",
        "#column transformer\n",
        "preprocess_tfm = ColumnTransformer([('num_preprocessing',MinMaxScaler(),num_features),\n",
        "                                    ('cat_preprocessing',OneHotEncoder(handle_unknown='ignore',sparse=False),cat_features)],\n",
        "                                   remainder='passthrough')"
      ],
      "metadata": {
        "id": "Q3g-keC4eyiz"
      },
      "execution_count": null,
      "outputs": []
    },
    {
      "cell_type": "code",
      "source": [
        "X_train_tfmed = preprocess_tfm.fit_transform(X_train)\n",
        "X_test_tfmed = preprocess_tfm.transform(X_test)\n",
        "print(X_train_tfmed.shape)\n",
        "print(X_test_tfmed.shape)"
      ],
      "metadata": {
        "id": "GwR-vRIThEus",
        "colab": {
          "base_uri": "https://localhost:8080/"
        },
        "outputId": "f9376199-a53a-4f71-fa71-cae15e7a4abf"
      },
      "execution_count": null,
      "outputs": [
        {
          "output_type": "stream",
          "name": "stdout",
          "text": [
            "(1781, 36)\n",
            "(446, 36)\n"
          ]
        }
      ]
    },
    {
      "cell_type": "code",
      "source": [
        "#Stratified Kfold\n",
        "stratified_kfold = StratifiedKFold(n_splits=5,\n",
        "                                       shuffle=True,\n",
        "                                       random_state=42)"
      ],
      "metadata": {
        "id": "3X4uv4O1CfMT"
      },
      "execution_count": null,
      "outputs": []
    },
    {
      "cell_type": "markdown",
      "source": [
        "##Models"
      ],
      "metadata": {
        "id": "WdhWSAiYoFYL"
      }
    },
    {
      "cell_type": "markdown",
      "source": [
        "###Logistic Regression"
      ],
      "metadata": {
        "id": "SBQzDHgZoTdg"
      }
    },
    {
      "cell_type": "code",
      "source": [
        "#define classifier\n",
        "lr_clf = LogisticRegression()\n",
        "\n",
        "#ImbPipeline with SMOTE\n",
        "pipeline_lr = imbpipeline(steps = [('preprocessor',preprocess_tfm),\n",
        "                                   ('smote', SMOTE(random_state=42)),\n",
        "                                   ('clf', lr_clf)])"
      ],
      "metadata": {
        "id": "P-CrjgalZyL-"
      },
      "execution_count": null,
      "outputs": []
    },
    {
      "cell_type": "code",
      "source": [
        "pipeline_lr.get_params().keys()"
      ],
      "metadata": {
        "colab": {
          "base_uri": "https://localhost:8080/"
        },
        "id": "QFwyPe9GacLh",
        "outputId": "cc64cc51-2e1c-4cf2-fe8e-70dc46ed35fa"
      },
      "execution_count": null,
      "outputs": [
        {
          "output_type": "execute_result",
          "data": {
            "text/plain": [
              "dict_keys(['memory', 'steps', 'verbose', 'preprocessor', 'smote', 'clf', 'preprocessor__n_jobs', 'preprocessor__remainder', 'preprocessor__sparse_threshold', 'preprocessor__transformer_weights', 'preprocessor__transformers', 'preprocessor__verbose', 'preprocessor__verbose_feature_names_out', 'preprocessor__num_preprocessing', 'preprocessor__cat_preprocessing', 'preprocessor__num_preprocessing__clip', 'preprocessor__num_preprocessing__copy', 'preprocessor__num_preprocessing__feature_range', 'preprocessor__cat_preprocessing__categories', 'preprocessor__cat_preprocessing__drop', 'preprocessor__cat_preprocessing__dtype', 'preprocessor__cat_preprocessing__handle_unknown', 'preprocessor__cat_preprocessing__sparse', 'smote__k_neighbors', 'smote__n_jobs', 'smote__random_state', 'smote__sampling_strategy', 'clf__C', 'clf__class_weight', 'clf__dual', 'clf__fit_intercept', 'clf__intercept_scaling', 'clf__l1_ratio', 'clf__max_iter', 'clf__multi_class', 'clf__n_jobs', 'clf__penalty', 'clf__random_state', 'clf__solver', 'clf__tol', 'clf__verbose', 'clf__warm_start'])"
            ]
          },
          "metadata": {},
          "execution_count": 67
        }
      ]
    },
    {
      "cell_type": "code",
      "source": [
        "param_grid = {'clf__C':[0.001, 0.01, 0.1, 1, 10, 100, 1000],\n",
        "              'clf__solver':['liblinear'],\n",
        "              'clf__max_iter': [1000]}\n",
        "grid_search_LR = GridSearchCV(estimator=pipeline_lr,\n",
        "                           param_grid=param_grid,\n",
        "                           scoring='roc_auc',\n",
        "                           cv=stratified_kfold,\n",
        "                           n_jobs=-1,\n",
        "                           verbose=True)\n",
        "\n",
        "grid_search_LR.fit(X_train, y_train)"
      ],
      "metadata": {
        "colab": {
          "base_uri": "https://localhost:8080/"
        },
        "id": "SIXxAV8iaYVK",
        "outputId": "a4ef358f-43cd-4509-9e54-5cf2c131cab5"
      },
      "execution_count": null,
      "outputs": [
        {
          "output_type": "stream",
          "name": "stdout",
          "text": [
            "Fitting 5 folds for each of 7 candidates, totalling 35 fits\n"
          ]
        },
        {
          "output_type": "execute_result",
          "data": {
            "text/plain": [
              "GridSearchCV(cv=StratifiedKFold(n_splits=5, random_state=42, shuffle=True),\n",
              "             estimator=Pipeline(steps=[('preprocessor',\n",
              "                                        ColumnTransformer(remainder='passthrough',\n",
              "                                                          transformers=[('num_preprocessing',\n",
              "                                                                         MinMaxScaler(),\n",
              "                                                                         ['Age',\n",
              "                                                                          'Income',\n",
              "                                                                          'Recency',\n",
              "                                                                          'Wines',\n",
              "                                                                          'Fruits',\n",
              "                                                                          'Meat',\n",
              "                                                                          'Fish',\n",
              "                                                                          'Sweets',\n",
              "                                                                          'Gold',\n",
              "                                                                          'NumDealsPurchases',\n",
              "                                                                          'NumWebPurchases',\n",
              "                                                                          'NumCatalogPurchases',\n",
              "                                                                          'NumStoreP...\n",
              "                                                                          'TotalProducts']),\n",
              "                                                                        ('cat_preprocessing',\n",
              "                                                                         OneHotEncoder(handle_unknown='ignore',\n",
              "                                                                                       sparse=False),\n",
              "                                                                         ['Education',\n",
              "                                                                          'Age '\n",
              "                                                                          'Group',\n",
              "                                                                          'Marital_Status',\n",
              "                                                                          'Income '\n",
              "                                                                          'Group'])])),\n",
              "                                       ('smote', SMOTE(random_state=42)),\n",
              "                                       ('clf', LogisticRegression())]),\n",
              "             n_jobs=-1,\n",
              "             param_grid={'clf__C': [0.001, 0.01, 0.1, 1, 10, 100, 1000],\n",
              "                         'clf__max_iter': [1000],\n",
              "                         'clf__solver': ['liblinear']},\n",
              "             scoring='roc_auc', verbose=True)"
            ]
          },
          "metadata": {},
          "execution_count": 126
        }
      ]
    },
    {
      "cell_type": "code",
      "source": [
        "print(grid_search_LR.best_params_)"
      ],
      "metadata": {
        "colab": {
          "base_uri": "https://localhost:8080/"
        },
        "id": "Y0m4oxzM4aS5",
        "outputId": "6e44712f-ef1d-492b-a212-6b983b0b43f4"
      },
      "execution_count": null,
      "outputs": [
        {
          "output_type": "stream",
          "name": "stdout",
          "text": [
            "{'clf__C': 100, 'clf__max_iter': 1000, 'clf__solver': 'liblinear'}\n"
          ]
        }
      ]
    },
    {
      "cell_type": "code",
      "source": [
        "#Get back the best_estimator\n",
        "best_estimator_LR = grid_search_LR.best_estimator_\n",
        "# Predict training data\n",
        "y_train_pred1 = best_estimator_LR.predict(X_train)\n",
        "# Score on train set\n",
        "print(f\"Predictions on training data: {roc_auc_score(y_train,y_train_pred1)}\")\n",
        "\n",
        "# Predict test data\n",
        "y_test_pred1 = best_estimator_LR.predict(X_test)\n",
        "# Score on test set\n",
        "print(f\"Predictions on test data: {roc_auc_score(y_test,y_test_pred1)}\")"
      ],
      "metadata": {
        "colab": {
          "base_uri": "https://localhost:8080/"
        },
        "id": "48DpEshOgXxx",
        "outputId": "ec2284a6-dd5d-485e-b916-e23f0135b75d"
      },
      "execution_count": null,
      "outputs": [
        {
          "output_type": "stream",
          "name": "stdout",
          "text": [
            "Predictions on training data: 0.7600042608074806\n",
            "Predictions on test data: 0.7523074111304029\n"
          ]
        }
      ]
    },
    {
      "cell_type": "markdown",
      "source": [
        "###Random Forest"
      ],
      "metadata": {
        "id": "98XWzdhE4AXJ"
      }
    },
    {
      "cell_type": "code",
      "source": [
        "#Define classifier\n",
        "clf = RandomForestClassifier()\n",
        "\n",
        "#ImbPipeline with SMOTE\n",
        "pipeline_RF = imbpipeline(steps = [('preprocessor',preprocess_tfm),\n",
        "                                   ('smote', SMOTE(random_state=42)),\n",
        "                                   ('clf', clf)])"
      ],
      "metadata": {
        "id": "b6rQn29oxzeW"
      },
      "execution_count": null,
      "outputs": []
    },
    {
      "cell_type": "markdown",
      "source": [
        "#### Randomized Search CV\n"
      ],
      "metadata": {
        "id": "GAohcSATTcTl"
      }
    },
    {
      "cell_type": "code",
      "source": [
        "#Randomized Search CV for Random Forest\n",
        "\n",
        "# Number of trees in the random forest\n",
        "n_estimators = [int(x) for x in np.linspace(5,300,6)]\n",
        "\n",
        "# Number of features to consider at every split\n",
        "max_features = ['auto', 'sqrt', 'log2']\n",
        "\n",
        "# Maximum number of levels in tree\n",
        "max_depth = [int(x) for x in np.linspace(10, 120, 12)]\n",
        "max_depth.append(None)\n",
        "\n",
        "# Minimum number of samples required at each leaf node\n",
        "min_samples_leaf = [2, 4, 8, 16]\n",
        "\n",
        "# Method of selecting samples for training each tree\n",
        "bootstrap = [True, False]\n",
        "\n",
        "# Create the random grid\n",
        "rfr_random_grid = {'clf__n_estimators': n_estimators,\n",
        "               'clf__max_features': max_features,\n",
        "               'clf__max_depth': max_depth,\n",
        "               'clf__min_samples_leaf': min_samples_leaf,\n",
        "               'clf__bootstrap': bootstrap}\n",
        "\n",
        "print(rfr_random_grid)"
      ],
      "metadata": {
        "colab": {
          "base_uri": "https://localhost:8080/"
        },
        "id": "3WEKELmxThcg",
        "outputId": "4f2a638b-b22b-4f1c-f5ac-e54167b6e015"
      },
      "execution_count": null,
      "outputs": [
        {
          "output_type": "stream",
          "name": "stdout",
          "text": [
            "{'clf__n_estimators': [5, 64, 123, 182, 241, 300], 'clf__max_features': ['auto', 'sqrt', 'log2'], 'clf__max_depth': [10, 20, 30, 40, 50, 60, 70, 80, 90, 100, 110, 120, None], 'clf__min_samples_leaf': [2, 4, 8, 16], 'clf__bootstrap': [True, False]}\n"
          ]
        }
      ]
    },
    {
      "cell_type": "code",
      "source": [
        "pipeline_RF.get_params().keys()"
      ],
      "metadata": {
        "colab": {
          "base_uri": "https://localhost:8080/"
        },
        "id": "uf18n-VOzX2I",
        "outputId": "69e450a6-2887-41eb-e92a-9e633045b3a9"
      },
      "execution_count": null,
      "outputs": [
        {
          "output_type": "execute_result",
          "data": {
            "text/plain": [
              "dict_keys(['memory', 'steps', 'verbose', 'preprocessor', 'smote', 'clf', 'preprocessor__n_jobs', 'preprocessor__remainder', 'preprocessor__sparse_threshold', 'preprocessor__transformer_weights', 'preprocessor__transformers', 'preprocessor__verbose', 'preprocessor__verbose_feature_names_out', 'preprocessor__num_preprocessing', 'preprocessor__cat_preprocessing', 'preprocessor__num_preprocessing__clip', 'preprocessor__num_preprocessing__copy', 'preprocessor__num_preprocessing__feature_range', 'preprocessor__cat_preprocessing__categories', 'preprocessor__cat_preprocessing__drop', 'preprocessor__cat_preprocessing__dtype', 'preprocessor__cat_preprocessing__handle_unknown', 'preprocessor__cat_preprocessing__sparse', 'smote__k_neighbors', 'smote__n_jobs', 'smote__random_state', 'smote__sampling_strategy', 'clf__bootstrap', 'clf__ccp_alpha', 'clf__class_weight', 'clf__criterion', 'clf__max_depth', 'clf__max_features', 'clf__max_leaf_nodes', 'clf__max_samples', 'clf__min_impurity_decrease', 'clf__min_samples_leaf', 'clf__min_samples_split', 'clf__min_weight_fraction_leaf', 'clf__n_estimators', 'clf__n_jobs', 'clf__oob_score', 'clf__random_state', 'clf__verbose', 'clf__warm_start'])"
            ]
          },
          "metadata": {},
          "execution_count": 41
        }
      ]
    },
    {
      "cell_type": "code",
      "source": [
        "rfr_randSearchCV = RandomizedSearchCV(estimator=pipeline_RF,\n",
        "                                        param_distributions=rfr_random_grid,\n",
        "                                        scoring=\"roc_auc\",\n",
        "                                        cv = stratified_kfold,\n",
        "                                        n_jobs = -1, verbose = 2)\n",
        "\n",
        "rfr_randSearchCV.fit(X_train, y_train)"
      ],
      "metadata": {
        "colab": {
          "base_uri": "https://localhost:8080/"
        },
        "id": "zbyVr_Ljyvwy",
        "outputId": "9de89265-24ac-452b-bf62-03cd1ef47915"
      },
      "execution_count": null,
      "outputs": [
        {
          "output_type": "stream",
          "name": "stdout",
          "text": [
            "Fitting 5 folds for each of 10 candidates, totalling 50 fits\n"
          ]
        },
        {
          "output_type": "execute_result",
          "data": {
            "text/plain": [
              "RandomizedSearchCV(cv=StratifiedKFold(n_splits=5, random_state=42, shuffle=True),\n",
              "                   estimator=Pipeline(steps=[('preprocessor',\n",
              "                                              ColumnTransformer(remainder='passthrough',\n",
              "                                                                transformers=[('num_preprocessing',\n",
              "                                                                               MinMaxScaler(),\n",
              "                                                                               ['Age',\n",
              "                                                                                'Income',\n",
              "                                                                                'Recency',\n",
              "                                                                                'Wines',\n",
              "                                                                                'Fruits',\n",
              "                                                                                'Meat',\n",
              "                                                                                'Fish',\n",
              "                                                                                'Sweets',\n",
              "                                                                                'Gold',\n",
              "                                                                                'NumDealsPurchases',\n",
              "                                                                                'NumWebPurchases',\n",
              "                                                                                'NumCatalogPurchases',\n",
              "                                                                                'Num...\n",
              "                                                                                'Group'])])),\n",
              "                                             ('smote', SMOTE(random_state=42)),\n",
              "                                             ('clf',\n",
              "                                              RandomForestClassifier())]),\n",
              "                   n_jobs=-1,\n",
              "                   param_distributions={'clf__bootstrap': [True, False],\n",
              "                                        'clf__max_depth': [10, 20, 30, 40, 50,\n",
              "                                                           60, 70, 80, 90, 100,\n",
              "                                                           110, 120, None],\n",
              "                                        'clf__max_features': ['auto', 'sqrt',\n",
              "                                                              'log2'],\n",
              "                                        'clf__min_samples_leaf': [2, 4, 8, 16],\n",
              "                                        'clf__n_estimators': [5, 64, 123, 182,\n",
              "                                                              241, 300]},\n",
              "                   scoring='roc_auc', verbose=2)"
            ]
          },
          "metadata": {},
          "execution_count": 132
        }
      ]
    },
    {
      "cell_type": "code",
      "source": [
        "print(rfr_randSearchCV.best_params_)"
      ],
      "metadata": {
        "colab": {
          "base_uri": "https://localhost:8080/"
        },
        "id": "Ay5rb1d61Ybd",
        "outputId": "bac8e070-c449-4119-ca19-5d006ad17eef"
      },
      "execution_count": null,
      "outputs": [
        {
          "output_type": "stream",
          "name": "stdout",
          "text": [
            "{'clf__n_estimators': 123, 'clf__min_samples_leaf': 2, 'clf__max_features': 'sqrt', 'clf__max_depth': 120, 'clf__bootstrap': False}\n"
          ]
        }
      ]
    },
    {
      "cell_type": "markdown",
      "source": [
        "####Grid Search CV"
      ],
      "metadata": {
        "id": "nTv-l-ukuwN-"
      }
    },
    {
      "cell_type": "code",
      "source": [
        "pipeline_RF.get_params().keys()"
      ],
      "metadata": {
        "colab": {
          "base_uri": "https://localhost:8080/"
        },
        "id": "BdHwykMq0etQ",
        "outputId": "84046b05-4207-4281-db6b-688927fe1faf"
      },
      "execution_count": null,
      "outputs": [
        {
          "output_type": "execute_result",
          "data": {
            "text/plain": [
              "dict_keys(['memory', 'steps', 'verbose', 'preprocessor', 'smote', 'clf', 'preprocessor__n_jobs', 'preprocessor__remainder', 'preprocessor__sparse_threshold', 'preprocessor__transformer_weights', 'preprocessor__transformers', 'preprocessor__verbose', 'preprocessor__verbose_feature_names_out', 'preprocessor__num_preprocessing', 'preprocessor__cat_preprocessing', 'preprocessor__num_preprocessing__clip', 'preprocessor__num_preprocessing__copy', 'preprocessor__num_preprocessing__feature_range', 'preprocessor__cat_preprocessing__categories', 'preprocessor__cat_preprocessing__drop', 'preprocessor__cat_preprocessing__dtype', 'preprocessor__cat_preprocessing__handle_unknown', 'preprocessor__cat_preprocessing__sparse', 'smote__k_neighbors', 'smote__n_jobs', 'smote__random_state', 'smote__sampling_strategy', 'clf__bootstrap', 'clf__ccp_alpha', 'clf__class_weight', 'clf__criterion', 'clf__max_depth', 'clf__max_features', 'clf__max_leaf_nodes', 'clf__max_samples', 'clf__min_impurity_decrease', 'clf__min_samples_leaf', 'clf__min_samples_split', 'clf__min_weight_fraction_leaf', 'clf__n_estimators', 'clf__n_jobs', 'clf__oob_score', 'clf__random_state', 'clf__verbose', 'clf__warm_start'])"
            ]
          },
          "metadata": {},
          "execution_count": 56
        }
      ]
    },
    {
      "cell_type": "code",
      "source": [
        "param_grid = {'clf__n_estimators': [int(x) for x in np.linspace(100,300,10)],\n",
        "              'clf__min_samples_leaf': [2,3,4,5],\n",
        "              'clf__max_features': ['sqrt'],\n",
        "              'clf__max_depth': [int(x) for x in np.linspace(80, 150, 5)],\n",
        "              'clf__bootstrap': [False]}\n",
        "\n",
        "grid_search_RF = GridSearchCV(estimator=pipeline_RF,\n",
        "                           param_grid=param_grid,\n",
        "                           scoring='roc_auc',\n",
        "                           cv=stratified_kfold,\n",
        "                           n_jobs=-1,\n",
        "                           verbose=2)\n",
        "\n",
        "grid_search_RF.fit(X_train, y_train)"
      ],
      "metadata": {
        "colab": {
          "base_uri": "https://localhost:8080/"
        },
        "id": "mXMa2zem0ko4",
        "outputId": "93acb5eb-9be6-48c2-d40d-cc65bef3e8a0"
      },
      "execution_count": null,
      "outputs": [
        {
          "output_type": "stream",
          "name": "stdout",
          "text": [
            "Fitting 5 folds for each of 200 candidates, totalling 1000 fits\n"
          ]
        },
        {
          "output_type": "execute_result",
          "data": {
            "text/plain": [
              "GridSearchCV(cv=StratifiedKFold(n_splits=5, random_state=42, shuffle=True),\n",
              "             estimator=Pipeline(steps=[('preprocessor',\n",
              "                                        ColumnTransformer(remainder='passthrough',\n",
              "                                                          transformers=[('num_preprocessing',\n",
              "                                                                         MinMaxScaler(),\n",
              "                                                                         ['Age',\n",
              "                                                                          'Income',\n",
              "                                                                          'Recency',\n",
              "                                                                          'Wines',\n",
              "                                                                          'Fruits',\n",
              "                                                                          'Meat',\n",
              "                                                                          'Fish',\n",
              "                                                                          'Sweets',\n",
              "                                                                          'Gold',\n",
              "                                                                          'NumDealsPurchases',\n",
              "                                                                          'NumWebPurchases',\n",
              "                                                                          'NumCatalogPurchases',\n",
              "                                                                          'NumStoreP...\n",
              "                                                                          'Group',\n",
              "                                                                          'Marital_Status',\n",
              "                                                                          'Income '\n",
              "                                                                          'Group'])])),\n",
              "                                       ('smote', SMOTE(random_state=42)),\n",
              "                                       ('clf', RandomForestClassifier())]),\n",
              "             n_jobs=-1,\n",
              "             param_grid={'clf__bootstrap': [False],\n",
              "                         'clf__max_depth': [80, 97, 115, 132, 150],\n",
              "                         'clf__max_features': ['sqrt'],\n",
              "                         'clf__min_samples_leaf': [2, 3, 4, 5],\n",
              "                         'clf__n_estimators': [100, 122, 144, 166, 188, 211,\n",
              "                                               233, 255, 277, 300]},\n",
              "             scoring='roc_auc', verbose=2)"
            ]
          },
          "metadata": {},
          "execution_count": 134
        }
      ]
    },
    {
      "cell_type": "code",
      "source": [
        "print(grid_search_RF.best_params_)"
      ],
      "metadata": {
        "colab": {
          "base_uri": "https://localhost:8080/"
        },
        "id": "hebyy0FmL6xO",
        "outputId": "08a83764-5bae-45c4-e4b9-0161ffe85396"
      },
      "execution_count": null,
      "outputs": [
        {
          "output_type": "stream",
          "name": "stdout",
          "text": [
            "{'clf__bootstrap': False, 'clf__max_depth': 80, 'clf__max_features': 'sqrt', 'clf__min_samples_leaf': 2, 'clf__n_estimators': 211}\n"
          ]
        }
      ]
    },
    {
      "cell_type": "code",
      "source": [
        "#Get back the best_estimator\n",
        "best_estimator_RF = grid_search_RF.best_estimator_\n",
        "# Predict training data\n",
        "y_train_pred2 = best_estimator_RF.predict(X_train)\n",
        "# Accuracy on train set\n",
        "print(f\"Predictions on training data: {roc_auc_score(y_train,y_train_pred2)}\")\n",
        "\n",
        "# Predict test data\n",
        "y_test_pred2 = best_estimator_RF.predict(X_test)\n",
        "# Accuracy on test set\n",
        "print(f\"Predictions on test data: {roc_auc_score(y_test,y_test_pred2)}\")"
      ],
      "metadata": {
        "colab": {
          "base_uri": "https://localhost:8080/"
        },
        "id": "X-54_vqi9zFE",
        "outputId": "1d879ec0-25ac-4947-dedc-2267f9928d2f"
      },
      "execution_count": null,
      "outputs": [
        {
          "output_type": "stream",
          "name": "stdout",
          "text": [
            "Predictions on training data: 1.0\n",
            "Predictions on test data: 0.7232325078436748\n"
          ]
        }
      ]
    },
    {
      "cell_type": "markdown",
      "source": [
        "####Feature importance"
      ],
      "metadata": {
        "id": "8hhPQ9q2KyRa"
      }
    },
    {
      "cell_type": "code",
      "source": [
        "RF_feature_importances = best_estimator_RF['clf'].feature_importances_\n",
        "final_features_name = num_features + list(pipeline_RF.named_steps['preprocessor'].named_transformers_['cat_preprocessing'].get_feature_names_out(cat_features))\n",
        "features_imp_RF = sorted(zip(list(RF_feature_importances),final_features_name),reverse=True)\n"
      ],
      "metadata": {
        "id": "fwMTsdEKVukU"
      },
      "execution_count": null,
      "outputs": []
    },
    {
      "cell_type": "code",
      "source": [
        "df_features_imp_RF = pd.DataFrame(features_imp_RF)\n",
        "df_features_imp_RF.rename(columns={0:'Importance',1:'Features'},inplace=True)\n",
        "df_features_imp_RF = df_features_imp_RF[['Features','Importance']]\n",
        "\n",
        "plt.figure(figsize=(15,8))\n",
        "plt.barh( df_features_imp_RF['Features'],df_features_imp_RF['Importance'])\n",
        "plt.xlabel(\"Random Forest Score Feature Importance\")"
      ],
      "metadata": {
        "colab": {
          "base_uri": "https://localhost:8080/",
          "height": 518
        },
        "id": "wxkXR4aKV_Ay",
        "outputId": "9a9e6b96-818d-48ee-f51d-b9499847088d"
      },
      "execution_count": null,
      "outputs": [
        {
          "output_type": "execute_result",
          "data": {
            "text/plain": [
              "Text(0.5, 0, 'Random Forest Score Feature Importance')"
            ]
          },
          "metadata": {},
          "execution_count": 166
        },
        {
          "output_type": "display_data",
          "data": {
            "image/png": "[encoded data removed]",
            "text/plain": [
              "<Figure size 1080x576 with 1 Axes>"
            ]
          },
          "metadata": {
            "needs_background": "light"
          }
        }
      ]
    },
    {
      "cell_type": "markdown",
      "source": [
        "###XGBoost"
      ],
      "metadata": {
        "id": "rcHHKVJALvyo"
      }
    },
    {
      "cell_type": "code",
      "source": [
        "#Define classifier\n",
        "xgb_clf = xgb.XGBClassifier()\n",
        "\n",
        "#ImbPipeline with SMOTE\n",
        "pipeline_xgb = imbpipeline(steps = [('preprocessor',preprocess_tfm),\n",
        "                                   ('smote', SMOTE(random_state=42)),\n",
        "                                   ('clf', xgb_clf)])"
      ],
      "metadata": {
        "id": "sgW5ztQHMfkD"
      },
      "execution_count": null,
      "outputs": []
    },
    {
      "cell_type": "code",
      "source": [
        "pipeline_xgb.fit(X_train,y_train)"
      ],
      "metadata": {
        "colab": {
          "base_uri": "https://localhost:8080/"
        },
        "id": "Ss3n45FcfLwS",
        "outputId": "a6fbb125-964b-44de-de0d-e9816663e99b"
      },
      "execution_count": null,
      "outputs": [
        {
          "output_type": "execute_result",
          "data": {
            "text/plain": [
              "Pipeline(steps=[('preprocessor',\n",
              "                 ColumnTransformer(remainder='passthrough',\n",
              "                                   transformers=[('num_preprocessing',\n",
              "                                                  MinMaxScaler(),\n",
              "                                                  ['Age', 'Income', 'Recency',\n",
              "                                                   'Wines', 'Fruits', 'Meat',\n",
              "                                                   'Fish', 'Sweets', 'Gold',\n",
              "                                                   'NumDealsPurchases',\n",
              "                                                   'NumWebPurchases',\n",
              "                                                   'NumCatalogPurchases',\n",
              "                                                   'NumStorePurchases',\n",
              "                                                   'NumWebVisitsMonth',\n",
              "                                                   'Complain', 'Children',\n",
              "                                                   'Month', 'Year',\n",
              "                                                   'TotalPurchases',\n",
              "                                                   'TotalProducts']),\n",
              "                                                 ('cat_preprocessing',\n",
              "                                                  OneHotEncoder(handle_unknown='ignore',\n",
              "                                                                sparse=False),\n",
              "                                                  ['Education', 'Age Group',\n",
              "                                                   'Marital_Status',\n",
              "                                                   'Income Group'])])),\n",
              "                ('smote', SMOTE(random_state=42)), ('clf', XGBClassifier())])"
            ]
          },
          "metadata": {},
          "execution_count": 28
        }
      ]
    },
    {
      "cell_type": "code",
      "source": [
        "# Predict training data\n",
        "y_train_xgb = pipeline_xgb.predict(X_train)\n",
        "# Accuracy on train set\n",
        "print(f\"Predictions on training data: {roc_auc_score(y_train,y_train_xgb)}\")\n",
        "\n",
        "# Predict test data\n",
        "y_test_xgb = pipeline_xgb.predict(X_test)\n",
        "# Accuracy on test set\n",
        "print(f\"Predictions on test data: {roc_auc_score(y_test,y_test_xgb)}\")"
      ],
      "metadata": {
        "colab": {
          "base_uri": "https://localhost:8080/"
        },
        "id": "Sg6-YmtcfXox",
        "outputId": "0a5cead5-cf5d-447f-b959-5ee6fe9275e4"
      },
      "execution_count": null,
      "outputs": [
        {
          "output_type": "stream",
          "name": "stdout",
          "text": [
            "Predictions on training data: 0.8432377914430702\n",
            "Predictions on test data: 0.7263242864540498\n"
          ]
        }
      ]
    },
    {
      "cell_type": "code",
      "source": [
        "pipeline_xgb.named_steps"
      ],
      "metadata": {
        "colab": {
          "base_uri": "https://localhost:8080/"
        },
        "id": "E08MkohHK-Cj",
        "outputId": "8f8791b8-5f34-467e-e31c-d297ff9daf92"
      },
      "execution_count": null,
      "outputs": [
        {
          "output_type": "execute_result",
          "data": {
            "text/plain": [
              "{'clf': XGBClassifier(),\n",
              " 'preprocessor': ColumnTransformer(remainder='passthrough',\n",
              "                   transformers=[('num_preprocessing', MinMaxScaler(),\n",
              "                                  ['Age', 'Income', 'Recency', 'Wines', 'Fruits',\n",
              "                                   'Meat', 'Fish', 'Sweets', 'Gold',\n",
              "                                   'NumDealsPurchases', 'NumWebPurchases',\n",
              "                                   'NumCatalogPurchases', 'NumStorePurchases',\n",
              "                                   'NumWebVisitsMonth', 'Complain', 'Children',\n",
              "                                   'Month', 'Year', 'TotalPurchases',\n",
              "                                   'TotalProducts']),\n",
              "                                 ('cat_preprocessing',\n",
              "                                  OneHotEncoder(handle_unknown='ignore',\n",
              "                                                sparse=False),\n",
              "                                  ['Education', 'Age Group', 'Marital_Status',\n",
              "                                   'Income Group'])]),\n",
              " 'smote': SMOTE(random_state=42)}"
            ]
          },
          "metadata": {},
          "execution_count": 36
        }
      ]
    },
    {
      "cell_type": "markdown",
      "source": [
        "#### Randomized Search CV"
      ],
      "metadata": {
        "id": "eYQaQOMzqebl"
      }
    },
    {
      "cell_type": "code",
      "source": [
        "pipeline_xgb.get_params().keys()"
      ],
      "metadata": {
        "colab": {
          "base_uri": "https://localhost:8080/"
        },
        "id": "peHK2xNgt96U",
        "outputId": "0b3e1e78-92d1-44ea-c123-521571b7a4b9"
      },
      "execution_count": null,
      "outputs": [
        {
          "output_type": "execute_result",
          "data": {
            "text/plain": [
              "dict_keys(['memory', 'steps', 'verbose', 'preprocessor', 'smote', 'clf', 'preprocessor__n_jobs', 'preprocessor__remainder', 'preprocessor__sparse_threshold', 'preprocessor__transformer_weights', 'preprocessor__transformers', 'preprocessor__verbose', 'preprocessor__verbose_feature_names_out', 'preprocessor__num_preprocessing', 'preprocessor__cat_preprocessing', 'preprocessor__num_preprocessing__clip', 'preprocessor__num_preprocessing__copy', 'preprocessor__num_preprocessing__feature_range', 'preprocessor__cat_preprocessing__categories', 'preprocessor__cat_preprocessing__drop', 'preprocessor__cat_preprocessing__dtype', 'preprocessor__cat_preprocessing__handle_unknown', 'preprocessor__cat_preprocessing__sparse', 'smote__k_neighbors', 'smote__n_jobs', 'smote__random_state', 'smote__sampling_strategy', 'clf__base_score', 'clf__booster', 'clf__colsample_bylevel', 'clf__colsample_bynode', 'clf__colsample_bytree', 'clf__gamma', 'clf__learning_rate', 'clf__max_delta_step', 'clf__max_depth', 'clf__min_child_weight', 'clf__missing', 'clf__n_estimators', 'clf__n_jobs', 'clf__nthread', 'clf__objective', 'clf__random_state', 'clf__reg_alpha', 'clf__reg_lambda', 'clf__scale_pos_weight', 'clf__seed', 'clf__silent', 'clf__subsample', 'clf__verbosity'])"
            ]
          },
          "metadata": {},
          "execution_count": 71
        }
      ]
    },
    {
      "cell_type": "code",
      "source": [
        "#Randomized Search CV for XGBoost\n",
        "\n",
        "n_estimators = [int(x) for x in np.linspace(3,100,15)]\n",
        "\n",
        "max_depth = [int(x) for x in np.linspace(7, 50, 12)]\n",
        "\n",
        "xgb_random_grid = {'clf__n_estimators': n_estimators,\n",
        "                    'clf__max_depth' : max_depth,\n",
        "                    'clf__learning_rate' : np.linspace(0,0.5,12),\n",
        "                    'clf__gamma':[0.1,0.25,0.5],\n",
        "                   'clf__min_child_weight': [1,2,3,4,5]}\n",
        "\n",
        "print(xgb_random_grid)"
      ],
      "metadata": {
        "colab": {
          "base_uri": "https://localhost:8080/"
        },
        "id": "5XEnM3nwJzHP",
        "outputId": "50176560-b9f9-4b4e-e494-13db8feeb78d"
      },
      "execution_count": null,
      "outputs": [
        {
          "output_type": "stream",
          "name": "stdout",
          "text": [
            "{'clf__n_estimators': [3, 9, 16, 23, 30, 37, 44, 51, 58, 65, 72, 79, 86, 93, 100], 'clf__max_depth': [7, 10, 14, 18, 22, 26, 30, 34, 38, 42, 46, 50], 'clf__learning_rate': array([0.        , 0.04545455, 0.09090909, 0.13636364, 0.18181818,\n",
            "       0.22727273, 0.27272727, 0.31818182, 0.36363636, 0.40909091,\n",
            "       0.45454545, 0.5       ]), 'clf__gamma': [0.1, 0.25, 0.5], 'clf__min_child_weight': [1, 2, 3, 4, 5]}\n"
          ]
        }
      ]
    },
    {
      "cell_type": "code",
      "source": [
        "xgb_randSearchCV = RandomizedSearchCV(estimator=pipeline_xgb,\n",
        "                                        param_distributions=xgb_random_grid,\n",
        "                                        scoring=\"roc_auc\",\n",
        "                                        cv = stratified_kfold,\n",
        "                                        n_iter=20,\n",
        "                                        n_jobs = -1, verbose = 2)\n",
        "xgb_randSearchCV.fit(X_train,y_train)"
      ],
      "metadata": {
        "colab": {
          "base_uri": "https://localhost:8080/"
        },
        "id": "CZpDzLgOMEgn",
        "outputId": "9d69bbcf-0161-4683-e023-9b4ba5b37a53"
      },
      "execution_count": null,
      "outputs": [
        {
          "output_type": "stream",
          "name": "stdout",
          "text": [
            "Fitting 5 folds for each of 20 candidates, totalling 100 fits\n"
          ]
        },
        {
          "output_type": "execute_result",
          "data": {
            "text/plain": [
              "RandomizedSearchCV(cv=StratifiedKFold(n_splits=5, random_state=42, shuffle=True),\n",
              "                   estimator=Pipeline(steps=[('preprocessor',\n",
              "                                              ColumnTransformer(remainder='passthrough',\n",
              "                                                                transformers=[('num_preprocessing',\n",
              "                                                                               MinMaxScaler(),\n",
              "                                                                               ['Age',\n",
              "                                                                                'Income',\n",
              "                                                                                'Recency',\n",
              "                                                                                'Wines',\n",
              "                                                                                'Fruits',\n",
              "                                                                                'Meat',\n",
              "                                                                                'Fish',\n",
              "                                                                                'Sweets',\n",
              "                                                                                'Gold',\n",
              "                                                                                'NumDealsPurchases',\n",
              "                                                                                'NumWebPurchases',\n",
              "                                                                                'NumCatalogPurchases',\n",
              "                                                                                'Num...\n",
              "                   param_distributions={'clf__gamma': [0.1, 0.25, 0.5],\n",
              "                                        'clf__learning_rate': array([0.        , 0.04545455, 0.09090909, 0.13636364, 0.18181818,\n",
              "       0.22727273, 0.27272727, 0.31818182, 0.36363636, 0.40909091,\n",
              "       0.45454545, 0.5       ]),\n",
              "                                        'clf__max_depth': [7, 10, 14, 18, 22,\n",
              "                                                           26, 30, 34, 38, 42,\n",
              "                                                           46, 50],\n",
              "                                        'clf__min_child_weight': [1, 2, 3, 4,\n",
              "                                                                  5],\n",
              "                                        'clf__n_estimators': [3, 9, 16, 23, 30,\n",
              "                                                              37, 44, 51, 58,\n",
              "                                                              65, 72, 79, 86,\n",
              "                                                              93, 100]},\n",
              "                   scoring='roc_auc', verbose=2)"
            ]
          },
          "metadata": {},
          "execution_count": 61
        }
      ]
    },
    {
      "cell_type": "code",
      "source": [
        "#1 ROC - AUC Score\n",
        "print(xgb_randSearchCV.best_params_)"
      ],
      "metadata": {
        "colab": {
          "base_uri": "https://localhost:8080/"
        },
        "id": "ZDuALjKJTCN1",
        "outputId": "dc39cab9-b930-4cdc-84be-4fefae5ffc24"
      },
      "execution_count": null,
      "outputs": [
        {
          "output_type": "stream",
          "name": "stdout",
          "text": [
            "{'clf__n_estimators': 240, 'clf__max_depth': 100, 'clf__learning_rate': 0.36363636363636365}\n"
          ]
        }
      ]
    },
    {
      "cell_type": "code",
      "source": [
        "#2 ROC - AUC Score\n",
        "print(xgb_randSearchCV.best_params_)\n"
      ],
      "metadata": {
        "colab": {
          "base_uri": "https://localhost:8080/"
        },
        "id": "9M8FZ_NhJmGA",
        "outputId": "1046d634-c1d1-48ce-9c4b-aa9bc73be8f9"
      },
      "execution_count": null,
      "outputs": [
        {
          "output_type": "stream",
          "name": "stdout",
          "text": [
            "{'clf__n_estimators': 65, 'clf__min_child_weight': 4, 'clf__max_depth': 14, 'clf__learning_rate': 0.09090909090909091, 'clf__gamma': 0.25}\n"
          ]
        }
      ]
    },
    {
      "cell_type": "markdown",
      "source": [
        "####Grid Search CV"
      ],
      "metadata": {
        "id": "M8TvnIdAqlFo"
      }
    },
    {
      "cell_type": "markdown",
      "source": [
        "#####ROC_AUC"
      ],
      "metadata": {
        "id": "2G_50yvolRik"
      }
    },
    {
      "cell_type": "code",
      "source": [
        "# Grid Search CV for XGBoost - using ROC_AUC\n",
        "xgb_param_grid = {\"clf__n_estimators\" : [int(x) for x in np.linspace(50,100,8)],\n",
        "                  \"clf__max_depth\" :  [int(x) for x in np.linspace(10,30,8)],\n",
        "                  'clf__learning_rate' : np.linspace(0.01,0.1,8),\n",
        "                  'clf__min_child_weight': [4],\n",
        "                  'clf__gamma':[0.25]}\n",
        "\n",
        "xgb_GSC = GridSearchCV(pipeline_xgb,\n",
        "                       param_grid = xgb_param_grid,\n",
        "                       scoring = \"roc_auc\",\n",
        "                       cv = stratified_kfold,\n",
        "                       n_jobs=-1, verbose=2)\n",
        "\n",
        "xgb_GSC.fit(X_train,y_train)"
      ],
      "metadata": {
        "colab": {
          "base_uri": "https://localhost:8080/"
        },
        "id": "K9p08FY7nCy4",
        "outputId": "61999fb2-430d-4990-8498-aa94860a5d1b"
      },
      "execution_count": null,
      "outputs": [
        {
          "output_type": "stream",
          "name": "stdout",
          "text": [
            "Fitting 5 folds for each of 512 candidates, totalling 2560 fits\n"
          ]
        },
        {
          "output_type": "execute_result",
          "data": {
            "text/plain": [
              "GridSearchCV(cv=StratifiedKFold(n_splits=5, random_state=42, shuffle=True),\n",
              "             estimator=Pipeline(steps=[('preprocessor',\n",
              "                                        ColumnTransformer(remainder='passthrough',\n",
              "                                                          transformers=[('num_preprocessing',\n",
              "                                                                         MinMaxScaler(),\n",
              "                                                                         ['Age',\n",
              "                                                                          'Income',\n",
              "                                                                          'Recency',\n",
              "                                                                          'Wines',\n",
              "                                                                          'Fruits',\n",
              "                                                                          'Meat',\n",
              "                                                                          'Fish',\n",
              "                                                                          'Sweets',\n",
              "                                                                          'Gold',\n",
              "                                                                          'NumDealsPurchases',\n",
              "                                                                          'NumWebPurchases',\n",
              "                                                                          'NumCatalogPurchases',\n",
              "                                                                          'NumStoreP...\n",
              "                                       ('smote', SMOTE(random_state=42)),\n",
              "                                       ('clf', XGBClassifier())]),\n",
              "             n_jobs=-1,\n",
              "             param_grid={'clf__gamma': [0.25],\n",
              "                         'clf__learning_rate': array([0.01      , 0.02285714, 0.03571429, 0.04857143, 0.06142857,\n",
              "       0.07428571, 0.08714286, 0.1       ]),\n",
              "                         'clf__max_depth': [10, 12, 15, 18, 21, 24, 27, 30],\n",
              "                         'clf__min_child_weight': [4],\n",
              "                         'clf__n_estimators': [50, 57, 64, 71, 78, 85, 92,\n",
              "                                               100]},\n",
              "             scoring='roc_auc', verbose=2)"
            ]
          },
          "metadata": {},
          "execution_count": 64
        }
      ]
    },
    {
      "cell_type": "code",
      "source": [
        "print(xgb_GSC.best_params_)"
      ],
      "metadata": {
        "id": "c4YPpWmqRqEj"
      },
      "execution_count": null,
      "outputs": []
    },
    {
      "cell_type": "code",
      "source": [
        "#Get back the best_estimator\n",
        "best_estimator_XGB = xgb_GSC.best_estimator_\n",
        "# Predict training data\n",
        "y_train_pred5 = best_estimator_XGB.predict(X_train)\n",
        "# Score on train set\n",
        "print(f\"Predictions on training data: {roc_auc_score(y_train,y_train_pred5)}\")\n",
        "\n",
        "# Predict test data\n",
        "y_test_pred5 = best_estimator_XGB.predict(X_test)\n",
        "# Score on test set\n",
        "print(f\"Predictions on test data: {roc_auc_score(y_test,y_test_pred5)}\")"
      ],
      "metadata": {
        "colab": {
          "base_uri": "https://localhost:8080/"
        },
        "id": "HlXZ3_mYnqUn",
        "outputId": "b588d085-1f33-497f-8e9f-61db71959d93"
      },
      "execution_count": null,
      "outputs": [
        {
          "output_type": "stream",
          "name": "stdout",
          "text": [
            "Predictions on training data: 0.9830316221009237\n",
            "Predictions on test data: 0.7608669164458254\n"
          ]
        }
      ]
    },
    {
      "cell_type": "code",
      "source": [
        "some_data = X_test.iloc[390:400]\n",
        "some_labels = y_test[390:400]\n",
        "\n",
        "print(\"Predictions: \", best_estimator_XGB.predict(some_data))\n",
        "print(\"Labels: \", some_labels)"
      ],
      "metadata": {
        "colab": {
          "base_uri": "https://localhost:8080/"
        },
        "id": "OibhJna8l6oG",
        "outputId": "912d321c-3eb9-4795-9b17-d5091df97b0b"
      },
      "execution_count": null,
      "outputs": [
        {
          "output_type": "stream",
          "name": "stdout",
          "text": [
            "Predictions:  [1 1 0 0 0 0 0 1 0 0]\n",
            "Labels:  [[1]\n",
            " [1]\n",
            " [0]\n",
            " [0]\n",
            " [1]\n",
            " [1]\n",
            " [0]\n",
            " [0]\n",
            " [0]\n",
            " [0]]\n"
          ]
        }
      ]
    },
    {
      "cell_type": "markdown",
      "source": [
        "####Save & load model"
      ],
      "metadata": {
        "id": "c7qvr4VLRx3r"
      }
    },
    {
      "cell_type": "code",
      "source": [
        "import pickle\n",
        "# save the model to disk\n",
        "filename = '/content/gdrive/MyDrive/DATASET/Final_Project_MLE/SAVED_MODEL/ROCAUC_XGB_p2.sav'\n",
        "pickle.dump(best_estimator_XGB, open(filename, 'wb'))"
      ],
      "metadata": {
        "id": "ZQhWOpaFRlk0"
      },
      "execution_count": null,
      "outputs": []
    },
    {
      "cell_type": "code",
      "source": [
        "import pickle\n",
        "# load the model from disk\n",
        "filename = '/content/gdrive/MyDrive/DATASET/Final_Project_MLE/SAVED_MODEL/ROCAUC_XGB_76.sav'\n",
        "\n",
        "def load_model(filename,X_test, y_test):\n",
        "    loaded_model = pickle.load(open(filename, 'rb'))\n",
        "    # Predict test data\n",
        "    y_test_pred = loaded_model.predict(X_test)\n",
        "    # Score on test set\n",
        "    print(\"Score on test set= {:5.4f}\".format(roc_auc_score(y_test,y_test_pred)))\n",
        "    return loaded_model"
      ],
      "metadata": {
        "id": "8LFg4tkKNmIt"
      },
      "execution_count": null,
      "outputs": []
    },
    {
      "cell_type": "code",
      "source": [
        "filename = '/content/gdrive/MyDrive/DATASET/Final_Project_MLE/SAVED_MODEL/ROCAUC_XGB_76.sav'\n",
        "loaded_model = pickle.load(open(filename, 'rb'))\n",
        "\n",
        "some_data = X_test.iloc[10:20]\n",
        "some_labels = y_test[10:20]\n",
        "\n",
        "print(\"Predictions: \", loaded_model.predict(some_data))\n",
        "print(\"Labels: \", some_labels)"
      ],
      "metadata": {
        "colab": {
          "base_uri": "https://localhost:8080/"
        },
        "id": "9pbOyfz9OWzl",
        "outputId": "d5629cc1-935c-4380-af05-a3dd7e4516ef"
      },
      "execution_count": null,
      "outputs": [
        {
          "output_type": "stream",
          "name": "stdout",
          "text": [
            "Predictions:  [1 0 0 1 0 0 0 0 1 0]\n",
            "Labels:  [[1]\n",
            " [0]\n",
            " [0]\n",
            " [1]\n",
            " [0]\n",
            " [0]\n",
            " [0]\n",
            " [0]\n",
            " [1]\n",
            " [0]]\n"
          ]
        }
      ]
    },
    {
      "cell_type": "code",
      "source": [
        "loaded_model.named_steps['clf']"
      ],
      "metadata": {
        "colab": {
          "base_uri": "https://localhost:8080/"
        },
        "id": "1SSf4N_C-Fl8",
        "outputId": "fcb6daca-f1aa-48b6-cd40-78e2d1bad7ea"
      },
      "execution_count": null,
      "outputs": [
        {
          "output_type": "execute_result",
          "data": {
            "text/plain": [
              "XGBClassifier(learning_rate=0.3333333333333333, max_depth=80, missing=nan,\n",
              "              n_estimators=400)"
            ]
          },
          "metadata": {},
          "execution_count": 44
        }
      ]
    },
    {
      "cell_type": "markdown",
      "source": [
        "####Features Importance"
      ],
      "metadata": {
        "id": "zul_CG8LTkXu"
      }
    },
    {
      "cell_type": "code",
      "source": [
        "#Get Features importance score\n",
        "xgb_feature_importances = best_estimator_XGB['clf'].feature_importances_\n",
        "#List name of full features\n",
        "final_features_name = num_features + list(pipeline_xgb.named_steps['preprocessor'].named_transformers_['cat_preprocessing'].get_feature_names_out(cat_features))\n",
        "# final_features_name"
      ],
      "metadata": {
        "id": "MBKRiB5xVOwS"
      },
      "execution_count": null,
      "outputs": []
    },
    {
      "cell_type": "code",
      "source": [
        "#Combine full features and their importance scores, sorted\n",
        "features_imp = sorted(zip(list(xgb_feature_importances),final_features_name),reverse=True)\n",
        "features_imp[:3]"
      ],
      "metadata": {
        "id": "OHA6DvQlym1D"
      },
      "execution_count": null,
      "outputs": []
    },
    {
      "cell_type": "code",
      "source": [
        "df_features_imp = pd.DataFrame(features_imp)\n",
        "df_features_imp.rename(columns={0:'Importance',1:'Features'},inplace=True)\n",
        "df_features_imp = df_features_imp[['Features','Importance']]\n",
        "df_features_imp.head(8)"
      ],
      "metadata": {
        "colab": {
          "base_uri": "https://localhost:8080/",
          "height": 300
        },
        "id": "vK2iGUP91zaU",
        "outputId": "e47ab5eb-4afd-47d8-e756-b01a0ca60579"
      },
      "execution_count": null,
      "outputs": [
        {
          "output_type": "execute_result",
          "data": {
            "text/html": [
              "\n",
              "  <div id=\"df-8f8e7072-21cc-440d-8e22-9eace6e59c39\">\n",
              "    <div class=\"colab-df-container\">\n",
              "      <div>\n",
              "<style scoped>\n",
              "    .dataframe tbody tr th:only-of-type {\n",
              "        vertical-align: middle;\n",
              "    }\n",
              "\n",
              "    .dataframe tbody tr th {\n",
              "        vertical-align: top;\n",
              "    }\n",
              "\n",
              "    .dataframe thead th {\n",
              "        text-align: right;\n",
              "    }\n",
              "</style>\n",
              "<table border=\"1\" class=\"dataframe\">\n",
              "  <thead>\n",
              "    <tr style=\"text-align: right;\">\n",
              "      <th></th>\n",
              "      <th>Features</th>\n",
              "      <th>Importance</th>\n",
              "    </tr>\n",
              "  </thead>\n",
              "  <tbody>\n",
              "    <tr>\n",
              "      <th>0</th>\n",
              "      <td>Wines</td>\n",
              "      <td>0.12387</td>\n",
              "    </tr>\n",
              "    <tr>\n",
              "      <th>1</th>\n",
              "      <td>Children</td>\n",
              "      <td>0.07866</td>\n",
              "    </tr>\n",
              "    <tr>\n",
              "      <th>2</th>\n",
              "      <td>Education_Basic</td>\n",
              "      <td>0.07471</td>\n",
              "    </tr>\n",
              "    <tr>\n",
              "      <th>3</th>\n",
              "      <td>NumCatalogPurchases</td>\n",
              "      <td>0.07349</td>\n",
              "    </tr>\n",
              "    <tr>\n",
              "      <th>4</th>\n",
              "      <td>Age Group_Old Adult</td>\n",
              "      <td>0.07313</td>\n",
              "    </tr>\n",
              "    <tr>\n",
              "      <th>5</th>\n",
              "      <td>NumStorePurchases</td>\n",
              "      <td>0.05936</td>\n",
              "    </tr>\n",
              "    <tr>\n",
              "      <th>6</th>\n",
              "      <td>NumWebVisitsMonth</td>\n",
              "      <td>0.03331</td>\n",
              "    </tr>\n",
              "    <tr>\n",
              "      <th>7</th>\n",
              "      <td>Marital_Status_Divorced</td>\n",
              "      <td>0.03107</td>\n",
              "    </tr>\n",
              "  </tbody>\n",
              "</table>\n",
              "</div>\n",
              "      <button class=\"colab-df-convert\" onclick=\"convertToInteractive('df-8f8e7072-21cc-440d-8e22-9eace6e59c39')\"\n",
              "              title=\"Convert this dataframe to an interactive table.\"\n",
              "              style=\"display:none;\">\n",
              "        \n",
              "  <svg xmlns=\"http://www.w3.org/2000/svg\" height=\"24px\"viewBox=\"0 0 24 24\"\n",
              "       width=\"24px\">\n",
              "    <path d=\"M0 0h24v24H0V0z\" fill=\"none\"/>\n",
              "    <path d=\"M18.56 5.44l.94 2.06.94-2.06 2.06-.94-2.06-.94-.94-2.06-.94 2.06-2.06.94zm-11 1L8.5 8.5l.94-2.06 2.06-.94-2.06-.94L8.5 2.5l-.94 2.06-2.06.94zm10 10l.94 2.06.94-2.06 2.06-.94-2.06-.94-.94-2.06-.94 2.06-2.06.94z\"/><path d=\"M17.41 7.96l-1.37-1.37c-.4-.4-.92-.59-1.43-.59-.52 0-1.04.2-1.43.59L10.3 9.45l-7.72 7.72c-.78.78-.78 2.05 0 2.83L4 21.41c.39.39.9.59 1.41.59.51 0 1.02-.2 1.41-.59l7.78-7.78 2.81-2.81c.8-.78.8-2.07 0-2.86zM5.41 20L4 18.59l7.72-7.72 1.47 1.35L5.41 20z\"/>\n",
              "  </svg>\n",
              "      </button>\n",
              "      \n",
              "  <style>\n",
              "    .colab-df-container {\n",
              "      display:flex;\n",
              "      flex-wrap:wrap;\n",
              "      gap: 12px;\n",
              "    }\n",
              "\n",
              "    .colab-df-convert {\n",
              "      background-color: #E8F0FE;\n",
              "      border: none;\n",
              "      border-radius: 50%;\n",
              "      cursor: pointer;\n",
              "      display: none;\n",
              "      fill: #1967D2;\n",
              "      height: 32px;\n",
              "      padding: 0 0 0 0;\n",
              "      width: 32px;\n",
              "    }\n",
              "\n",
              "    .colab-df-convert:hover {\n",
              "      background-color: #E2EBFA;\n",
              "      box-shadow: 0px 1px 2px rgba(60, 64, 67, 0.3), 0px 1px 3px 1px rgba(60, 64, 67, 0.15);\n",
              "      fill: #174EA6;\n",
              "    }\n",
              "\n",
              "    [theme=dark] .colab-df-convert {\n",
              "      background-color: #3B4455;\n",
              "      fill: #D2E3FC;\n",
              "    }\n",
              "\n",
              "    [theme=dark] .colab-df-convert:hover {\n",
              "      background-color: #434B5C;\n",
              "      box-shadow: 0px 1px 3px 1px rgba(0, 0, 0, 0.15);\n",
              "      filter: drop-shadow(0px 1px 2px rgba(0, 0, 0, 0.3));\n",
              "      fill: #FFFFFF;\n",
              "    }\n",
              "  </style>\n",
              "\n",
              "      <script>\n",
              "        const buttonEl =\n",
              "          document.querySelector('#df-8f8e7072-21cc-440d-8e22-9eace6e59c39 button.colab-df-convert');\n",
              "        buttonEl.style.display =\n",
              "          google.colab.kernel.accessAllowed ? 'block' : 'none';\n",
              "\n",
              "        async function convertToInteractive(key) {\n",
              "          const element = document.querySelector('#df-8f8e7072-21cc-440d-8e22-9eace6e59c39');\n",
              "          const dataTable =\n",
              "            await google.colab.kernel.invokeFunction('convertToInteractive',\n",
              "                                                     [key], {});\n",
              "          if (!dataTable) return;\n",
              "\n",
              "          const docLinkHtml = 'Like what you see? Visit the ' +\n",
              "            '<a target=\"_blank\" href=https://colab.research.google.com/notebooks/data_table.ipynb>data table notebook</a>'\n",
              "            + ' to learn more about interactive tables.';\n",
              "          element.innerHTML = '';\n",
              "          dataTable['output_type'] = 'display_data';\n",
              "          await google.colab.output.renderOutput(dataTable, element);\n",
              "          const docLink = document.createElement('div');\n",
              "          docLink.innerHTML = docLinkHtml;\n",
              "          element.appendChild(docLink);\n",
              "        }\n",
              "      </script>\n",
              "    </div>\n",
              "  </div>\n",
              "  "
            ],
            "text/plain": [
              "                  Features  Importance\n",
              "0                    Wines     0.12387\n",
              "1                 Children     0.07866\n",
              "2          Education_Basic     0.07471\n",
              "3      NumCatalogPurchases     0.07349\n",
              "4      Age Group_Old Adult     0.07313\n",
              "5        NumStorePurchases     0.05936\n",
              "6        NumWebVisitsMonth     0.03331\n",
              "7  Marital_Status_Divorced     0.03107"
            ]
          },
          "metadata": {},
          "execution_count": 153
        }
      ]
    },
    {
      "cell_type": "code",
      "source": [
        "plt.figure(figsize=(15,8))\n",
        "plt.barh( df_features_imp['Features'],df_features_imp['Importance'])\n",
        "plt.xlabel(\"Xgboost Feature Importance\")"
      ],
      "metadata": {
        "colab": {
          "base_uri": "https://localhost:8080/",
          "height": 518
        },
        "id": "wEnyQOy6K4qy",
        "outputId": "5fd3e645-9d74-4887-f131-abb3e7acc90f"
      },
      "execution_count": null,
      "outputs": [
        {
          "output_type": "execute_result",
          "data": {
            "text/plain": [
              "Text(0.5, 0, 'Xgboost Feature Importance')"
            ]
          },
          "metadata": {},
          "execution_count": 154
        },
        {
          "output_type": "display_data",
          "data": {
            "image/png": "[encoded data removed]",
            "text/plain": [
              "<Figure size 1080x576 with 1 Axes>"
            ]
          },
          "metadata": {
            "needs_background": "light"
          }
        }
      ]
    },
    {
      "cell_type": "markdown",
      "source": [
        "So from the barchart above, we can see there are some features that's importance here like: Wines, Children, Education_basic, NumCatalogPurchases,...."
      ],
      "metadata": {
        "id": "VXhN7xCjMzDM"
      }
    },
    {
      "cell_type": "markdown",
      "source": [
        "###LightGBM"
      ],
      "metadata": {
        "id": "c3zFslHNFUlI"
      }
    },
    {
      "cell_type": "code",
      "source": [
        "#define classifier\n",
        "lgbm_clf = lgb.LGBMClassifier()\n",
        "\n",
        "#ImbPipeline with SMOTE\n",
        "pipeline_lgbm = imbpipeline(steps = [('preprocessor',preprocess_tfm),\n",
        "                                   ('smote', SMOTE(random_state=42)),\n",
        "                                   ('clf', lgbm_clf)])"
      ],
      "metadata": {
        "id": "28JGtoPrbjsW"
      },
      "execution_count": null,
      "outputs": []
    },
    {
      "cell_type": "code",
      "source": [
        "pipeline_lgbm.fit(X_train,y_train)"
      ],
      "metadata": {
        "colab": {
          "base_uri": "https://localhost:8080/"
        },
        "id": "OP7f9ws2gAm1",
        "outputId": "cf69db55-18a5-4543-88bf-80c662446645"
      },
      "execution_count": null,
      "outputs": [
        {
          "output_type": "execute_result",
          "data": {
            "text/plain": [
              "Pipeline(steps=[('preprocessor',\n",
              "                 ColumnTransformer(remainder='passthrough',\n",
              "                                   transformers=[('num_preprocessing',\n",
              "                                                  MinMaxScaler(),\n",
              "                                                  ['Age', 'Income', 'Recency',\n",
              "                                                   'Wines', 'Fruits', 'Meat',\n",
              "                                                   'Fish', 'Sweets', 'Gold',\n",
              "                                                   'NumDealsPurchases',\n",
              "                                                   'NumWebPurchases',\n",
              "                                                   'NumCatalogPurchases',\n",
              "                                                   'NumStorePurchases',\n",
              "                                                   'NumWebVisitsMonth',\n",
              "                                                   'Complain', 'Children',\n",
              "                                                   'Month', 'Year',\n",
              "                                                   'TotalPurchases',\n",
              "                                                   'TotalProducts']),\n",
              "                                                 ('cat_preprocessing',\n",
              "                                                  OneHotEncoder(handle_unknown='ignore',\n",
              "                                                                sparse=False),\n",
              "                                                  ['Education', 'Age Group',\n",
              "                                                   'Marital_Status',\n",
              "                                                   'Income Group'])])),\n",
              "                ('smote', SMOTE(random_state=42)), ('clf', LGBMClassifier())])"
            ]
          },
          "metadata": {},
          "execution_count": 29
        }
      ]
    },
    {
      "cell_type": "code",
      "source": [
        "# Predict training data\n",
        "y_train_lgbm = pipeline_lgbm.predict(X_train)\n",
        "# Accuracy on train set\n",
        "print(f\"Predictions on training data: {roc_auc_score(y_train,y_train_lgbm)}\")\n",
        "\n",
        "# Predict test data\n",
        "y_test_lgbm = pipeline_lgbm.predict(X_test)\n",
        "# Accuracy on test set\n",
        "print(f\"Predictions on test data: {roc_auc_score(y_test,y_test_lgbm)}\")"
      ],
      "metadata": {
        "colab": {
          "base_uri": "https://localhost:8080/"
        },
        "id": "QNBW8Y3ugENH",
        "outputId": "caba56df-4234-404e-e731-f7194404706d"
      },
      "execution_count": null,
      "outputs": [
        {
          "output_type": "stream",
          "name": "stdout",
          "text": [
            "Predictions on training data: 1.0\n",
            "Predictions on test data: 0.7368180572055195\n"
          ]
        }
      ]
    },
    {
      "cell_type": "markdown",
      "source": [
        "####Randomized Search CV"
      ],
      "metadata": {
        "id": "AnTZZRxHFnv2"
      }
    },
    {
      "cell_type": "code",
      "source": [
        "#Randomized Search CV for LightGBM\n",
        "n_estimators = [int(x) for x in np.linspace(50,400,10)]\n",
        "\n",
        "max_depth = [int(x) for x in np.linspace(3, 100, 10)]\n",
        "\n",
        "lgbm_random_grid = {'clf__n_estimators': n_estimators,\n",
        "                    'clf__max_depth' : max_depth,\n",
        "                    'clf__learning_rate' : np.linspace(0.01,0.5,10)\n",
        "                    }\n",
        "\n",
        "print(lgbm_random_grid)"
      ],
      "metadata": {
        "colab": {
          "base_uri": "https://localhost:8080/"
        },
        "id": "MXrEzJ36GXQW",
        "outputId": "7aa59e5d-e223-4312-ee46-118ff717d654"
      },
      "execution_count": null,
      "outputs": [
        {
          "output_type": "stream",
          "name": "stdout",
          "text": [
            "{'clf__n_estimators': [50, 88, 127, 166, 205, 244, 283, 322, 361, 400], 'clf__max_depth': [3, 13, 24, 35, 46, 56, 67, 78, 89, 100], 'clf__learning_rate': array([0.01      , 0.06444444, 0.11888889, 0.17333333, 0.22777778,\n",
            "       0.28222222, 0.33666667, 0.39111111, 0.44555556, 0.5       ])}\n"
          ]
        }
      ]
    },
    {
      "cell_type": "code",
      "source": [
        "lgbm_randSearchCV = RandomizedSearchCV(estimator=pipeline_lgbm,\n",
        "                                        param_distributions=lgbm_random_grid,\n",
        "                                        scoring=\"roc_auc\",\n",
        "                                        cv = stratified_kfold,\n",
        "                                        n_iter=20,\n",
        "                                        n_jobs = -1, verbose = 2)\n",
        "lgbm_randSearchCV.fit(X_train,y_train)"
      ],
      "metadata": {
        "colab": {
          "base_uri": "https://localhost:8080/"
        },
        "id": "Txp04jZwGxiM",
        "outputId": "131235d4-eba5-4dbf-ab68-e26038c22294"
      },
      "execution_count": null,
      "outputs": [
        {
          "output_type": "stream",
          "name": "stdout",
          "text": [
            "Fitting 5 folds for each of 20 candidates, totalling 100 fits\n"
          ]
        },
        {
          "output_type": "execute_result",
          "data": {
            "text/plain": [
              "RandomizedSearchCV(cv=StratifiedKFold(n_splits=5, random_state=42, shuffle=True),\n",
              "                   estimator=Pipeline(steps=[('preprocessor',\n",
              "                                              ColumnTransformer(remainder='passthrough',\n",
              "                                                                transformers=[('num_preprocessing',\n",
              "                                                                               MinMaxScaler(),\n",
              "                                                                               ['Age',\n",
              "                                                                                'Income',\n",
              "                                                                                'Recency',\n",
              "                                                                                'Wines',\n",
              "                                                                                'Fruits',\n",
              "                                                                                'Meat',\n",
              "                                                                                'Fish',\n",
              "                                                                                'Sweets',\n",
              "                                                                                'Gold',\n",
              "                                                                                'NumDealsPurchases',\n",
              "                                                                                'NumWebPurchases',\n",
              "                                                                                'NumCatalogPurchases',\n",
              "                                                                                'Num...\n",
              "                                             ('smote', SMOTE(random_state=42)),\n",
              "                                             ('clf', LGBMClassifier())]),\n",
              "                   n_iter=20, n_jobs=-1,\n",
              "                   param_distributions={'clf__learning_rate': array([0.01      , 0.06444444, 0.11888889, 0.17333333, 0.22777778,\n",
              "       0.28222222, 0.33666667, 0.39111111, 0.44555556, 0.5       ]),\n",
              "                                        'clf__max_depth': [3, 13, 24, 35, 46,\n",
              "                                                           56, 67, 78, 89,\n",
              "                                                           100],\n",
              "                                        'clf__n_estimators': [50, 88, 127, 166,\n",
              "                                                              205, 244, 283,\n",
              "                                                              322, 361, 400]},\n",
              "                   scoring='roc_auc', verbose=2)"
            ]
          },
          "metadata": {},
          "execution_count": 168
        }
      ]
    },
    {
      "cell_type": "code",
      "source": [
        "print(lgbm_randSearchCV.best_params_)"
      ],
      "metadata": {
        "colab": {
          "base_uri": "https://localhost:8080/"
        },
        "id": "1u5DaRy4HGdR",
        "outputId": "3fce82c1-7f6d-4220-b175-f1c1d0d3971a"
      },
      "execution_count": null,
      "outputs": [
        {
          "output_type": "stream",
          "name": "stdout",
          "text": [
            "{'clf__n_estimators': 244, 'clf__max_depth': 78, 'clf__learning_rate': 0.06444444444444444}\n"
          ]
        }
      ]
    },
    {
      "cell_type": "markdown",
      "source": [
        "####Grid Search CV"
      ],
      "metadata": {
        "id": "vZGhKufvF2C_"
      }
    },
    {
      "cell_type": "code",
      "source": [
        "# Grid Search CV for LightGBM\n",
        "lgbm_param_grid = {\"clf__n_estimators\" : [int(x) for x in np.linspace(200,300,6)],\n",
        "                  \"clf__max_depth\" :  [int(x) for x in np.linspace(50,100,6,endpoint=True)],\n",
        "                  'clf__learning_rate' : np.linspace(0.001,0.1,6)\n",
        "                  }\n",
        "\n",
        "print(lgbm_param_grid)\n",
        "\n",
        "lgbm_GSC = GridSearchCV(pipeline_lgbm,\n",
        "                       param_grid = lgbm_param_grid,\n",
        "                       scoring = \"roc_auc\",\n",
        "                       cv = stratified_kfold,\n",
        "                       n_jobs=-1, verbose=2)\n",
        "\n",
        "lgbm_GSC.fit(X_train,y_train)"
      ],
      "metadata": {
        "colab": {
          "base_uri": "https://localhost:8080/"
        },
        "id": "qZi7eW7qIaRq",
        "outputId": "bddbbc80-2a06-4be2-fcc4-8ac7858235be"
      },
      "execution_count": null,
      "outputs": [
        {
          "output_type": "stream",
          "name": "stdout",
          "text": [
            "{'clf__n_estimators': [200, 220, 240, 260, 280, 300], 'clf__max_depth': [50, 60, 70, 80, 90, 100], 'clf__learning_rate': array([0.001 , 0.0208, 0.0406, 0.0604, 0.0802, 0.1   ])}\n",
            "Fitting 5 folds for each of 216 candidates, totalling 1080 fits\n"
          ]
        },
        {
          "output_type": "execute_result",
          "data": {
            "text/plain": [
              "GridSearchCV(cv=StratifiedKFold(n_splits=5, random_state=42, shuffle=True),\n",
              "             estimator=Pipeline(steps=[('preprocessor',\n",
              "                                        ColumnTransformer(remainder='passthrough',\n",
              "                                                          transformers=[('num_preprocessing',\n",
              "                                                                         MinMaxScaler(),\n",
              "                                                                         ['Age',\n",
              "                                                                          'Income',\n",
              "                                                                          'Recency',\n",
              "                                                                          'Wines',\n",
              "                                                                          'Fruits',\n",
              "                                                                          'Meat',\n",
              "                                                                          'Fish',\n",
              "                                                                          'Sweets',\n",
              "                                                                          'Gold',\n",
              "                                                                          'NumDealsPurchases',\n",
              "                                                                          'NumWebPurchases',\n",
              "                                                                          'NumCatalogPurchases',\n",
              "                                                                          'NumStoreP...\n",
              "                                                                         OneHotEncoder(handle_unknown='ignore',\n",
              "                                                                                       sparse=False),\n",
              "                                                                         ['Education',\n",
              "                                                                          'Age '\n",
              "                                                                          'Group',\n",
              "                                                                          'Marital_Status',\n",
              "                                                                          'Income '\n",
              "                                                                          'Group'])])),\n",
              "                                       ('smote', SMOTE(random_state=42)),\n",
              "                                       ('clf', LGBMClassifier())]),\n",
              "             n_jobs=-1,\n",
              "             param_grid={'clf__learning_rate': array([0.001 , 0.0208, 0.0406, 0.0604, 0.0802, 0.1   ]),\n",
              "                         'clf__max_depth': [50, 60, 70, 80, 90, 100],\n",
              "                         'clf__n_estimators': [200, 220, 240, 260, 280, 300]},\n",
              "             scoring='roc_auc', verbose=2)"
            ]
          },
          "metadata": {},
          "execution_count": 31
        }
      ]
    },
    {
      "cell_type": "code",
      "source": [
        "print(lgbm_GSC.best_params_)"
      ],
      "metadata": {
        "colab": {
          "base_uri": "https://localhost:8080/"
        },
        "id": "uelyjlThGmyV",
        "outputId": "ec42245a-22d0-4d3b-a5f5-7c291172dd4e"
      },
      "execution_count": null,
      "outputs": [
        {
          "output_type": "stream",
          "name": "stdout",
          "text": [
            "{'clf__learning_rate': 0.040600000000000004, 'clf__max_depth': 50, 'clf__n_estimators': 240}\n"
          ]
        }
      ]
    },
    {
      "cell_type": "code",
      "source": [
        "#Get back the best_estimator\n",
        "best_estimator_LGBM = lgbm_GSC.best_estimator_\n",
        "# Predict training data\n",
        "y_train_pred4 = best_estimator_LGBM.predict(X_train)\n",
        "# Accuracy on train set\n",
        "print(f\"Predictions on training data: {roc_auc_score(y_train,y_train_pred4)}\")\n",
        "\n",
        "# Predict test data\n",
        "y_test_pred4 = best_estimator_LGBM.predict(X_test)\n",
        "# Accuracy on test set\n",
        "print(f\"Predictions on test data: {roc_auc_score(y_test,y_test_pred4)}\")"
      ],
      "metadata": {
        "colab": {
          "base_uri": "https://localhost:8080/"
        },
        "id": "zR2Q8rpsLx_I",
        "outputId": "14506b6d-41aa-4c96-ae57-9d2eb4709c20"
      },
      "execution_count": null,
      "outputs": [
        {
          "output_type": "stream",
          "name": "stdout",
          "text": [
            "Predictions on training data: 1.0\n",
            "Predictions on test data: 0.7342745743092998\n"
          ]
        }
      ]
    },
    {
      "cell_type": "markdown",
      "source": [
        "####Save & load model"
      ],
      "metadata": {
        "id": "mQhYh0U59WNw"
      }
    },
    {
      "cell_type": "code",
      "source": [
        "import pickle\n",
        "# save the model to disk\n",
        "filename = '/content/gdrive/MyDrive/DATASET/Final_Project_MLE/SAVED_MODEL/ROC_AUC_LGBM_734.sav'\n",
        "pickle.dump(best_estimator_LGBM, open(filename, 'wb'))"
      ],
      "metadata": {
        "id": "rsI3SgME9WNw"
      },
      "execution_count": null,
      "outputs": []
    },
    {
      "cell_type": "code",
      "source": [
        "# load the model from disk\n",
        "model_LGBM = '/content/gdrive/MyDrive/DATASET/Final_Project_MLE/SAVED_MODEL/ROC_AUC_LGBM_734.sav'\n",
        "\n",
        "def load_model(filename,X_test, y_test):\n",
        "    loaded_model = pickle.load(open(model_LGBM, 'rb'))\n",
        "    # Predict div data\n",
        "    y_test_pred = loaded_model.predict(X_test)\n",
        "    # Score on test set\n",
        "    print(\"Score on test set= {:5.4f}\".format(roc_auc_score(y_test,y_test_pred)))\n",
        "    # return loaded_model"
      ],
      "metadata": {
        "id": "zrp6jFQz9WNw"
      },
      "execution_count": null,
      "outputs": []
    },
    {
      "cell_type": "code",
      "source": [
        "load_model(model_LGBM,X_test,y_test)"
      ],
      "metadata": {
        "colab": {
          "base_uri": "https://localhost:8080/"
        },
        "outputId": "a3454221-ac5d-403b-c09a-f5b4ad5317e1",
        "id": "ktDQi2AQ9WNw"
      },
      "execution_count": null,
      "outputs": [
        {
          "output_type": "stream",
          "name": "stdout",
          "text": [
            "Score on test set= 0.7343\n"
          ]
        }
      ]
    }
  ]
}